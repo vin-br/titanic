{
 "cells": [
  {
   "cell_type": "markdown",
   "metadata": {},
   "source": [
    "# Titanic\n",
    "\n",
    "Équipe : Vincent Boettcher et lui même."
   ]
  },
  {
   "cell_type": "markdown",
   "metadata": {},
   "source": [
    "## Analyse et visualisation des données"
   ]
  },
  {
   "cell_type": "code",
   "execution_count": 2,
   "metadata": {},
   "outputs": [
    {
     "data": {
      "text/html": [
       "<div>\n",
       "<style scoped>\n",
       "    .dataframe tbody tr th:only-of-type {\n",
       "        vertical-align: middle;\n",
       "    }\n",
       "\n",
       "    .dataframe tbody tr th {\n",
       "        vertical-align: top;\n",
       "    }\n",
       "\n",
       "    .dataframe thead th {\n",
       "        text-align: right;\n",
       "    }\n",
       "</style>\n",
       "<table border=\"1\" class=\"dataframe\">\n",
       "  <thead>\n",
       "    <tr style=\"text-align: right;\">\n",
       "      <th></th>\n",
       "      <th>PassengerId</th>\n",
       "      <th>Survived</th>\n",
       "      <th>Pclass</th>\n",
       "      <th>Name</th>\n",
       "      <th>Sex</th>\n",
       "      <th>Age</th>\n",
       "      <th>SibSp</th>\n",
       "      <th>Parch</th>\n",
       "      <th>Ticket</th>\n",
       "      <th>Fare</th>\n",
       "      <th>Cabin</th>\n",
       "      <th>Embarked</th>\n",
       "    </tr>\n",
       "  </thead>\n",
       "  <tbody>\n",
       "    <tr>\n",
       "      <th>0</th>\n",
       "      <td>1</td>\n",
       "      <td>0</td>\n",
       "      <td>3</td>\n",
       "      <td>Braund, Mr. Owen Harris</td>\n",
       "      <td>male</td>\n",
       "      <td>22.0</td>\n",
       "      <td>1</td>\n",
       "      <td>0</td>\n",
       "      <td>A/5 21171</td>\n",
       "      <td>7.2500</td>\n",
       "      <td>NaN</td>\n",
       "      <td>S</td>\n",
       "    </tr>\n",
       "    <tr>\n",
       "      <th>1</th>\n",
       "      <td>2</td>\n",
       "      <td>1</td>\n",
       "      <td>1</td>\n",
       "      <td>Cumings, Mrs. John Bradley (Florence Briggs Th...</td>\n",
       "      <td>female</td>\n",
       "      <td>38.0</td>\n",
       "      <td>1</td>\n",
       "      <td>0</td>\n",
       "      <td>PC 17599</td>\n",
       "      <td>71.2833</td>\n",
       "      <td>C85</td>\n",
       "      <td>C</td>\n",
       "    </tr>\n",
       "    <tr>\n",
       "      <th>2</th>\n",
       "      <td>3</td>\n",
       "      <td>1</td>\n",
       "      <td>3</td>\n",
       "      <td>Heikkinen, Miss. Laina</td>\n",
       "      <td>female</td>\n",
       "      <td>26.0</td>\n",
       "      <td>0</td>\n",
       "      <td>0</td>\n",
       "      <td>STON/O2. 3101282</td>\n",
       "      <td>7.9250</td>\n",
       "      <td>NaN</td>\n",
       "      <td>S</td>\n",
       "    </tr>\n",
       "    <tr>\n",
       "      <th>3</th>\n",
       "      <td>4</td>\n",
       "      <td>1</td>\n",
       "      <td>1</td>\n",
       "      <td>Futrelle, Mrs. Jacques Heath (Lily May Peel)</td>\n",
       "      <td>female</td>\n",
       "      <td>35.0</td>\n",
       "      <td>1</td>\n",
       "      <td>0</td>\n",
       "      <td>113803</td>\n",
       "      <td>53.1000</td>\n",
       "      <td>C123</td>\n",
       "      <td>S</td>\n",
       "    </tr>\n",
       "    <tr>\n",
       "      <th>4</th>\n",
       "      <td>5</td>\n",
       "      <td>0</td>\n",
       "      <td>3</td>\n",
       "      <td>Allen, Mr. William Henry</td>\n",
       "      <td>male</td>\n",
       "      <td>35.0</td>\n",
       "      <td>0</td>\n",
       "      <td>0</td>\n",
       "      <td>373450</td>\n",
       "      <td>8.0500</td>\n",
       "      <td>NaN</td>\n",
       "      <td>S</td>\n",
       "    </tr>\n",
       "    <tr>\n",
       "      <th>5</th>\n",
       "      <td>6</td>\n",
       "      <td>0</td>\n",
       "      <td>3</td>\n",
       "      <td>Moran, Mr. James</td>\n",
       "      <td>male</td>\n",
       "      <td>NaN</td>\n",
       "      <td>0</td>\n",
       "      <td>0</td>\n",
       "      <td>330877</td>\n",
       "      <td>8.4583</td>\n",
       "      <td>NaN</td>\n",
       "      <td>Q</td>\n",
       "    </tr>\n",
       "    <tr>\n",
       "      <th>6</th>\n",
       "      <td>7</td>\n",
       "      <td>0</td>\n",
       "      <td>1</td>\n",
       "      <td>McCarthy, Mr. Timothy J</td>\n",
       "      <td>male</td>\n",
       "      <td>54.0</td>\n",
       "      <td>0</td>\n",
       "      <td>0</td>\n",
       "      <td>17463</td>\n",
       "      <td>51.8625</td>\n",
       "      <td>E46</td>\n",
       "      <td>S</td>\n",
       "    </tr>\n",
       "    <tr>\n",
       "      <th>7</th>\n",
       "      <td>8</td>\n",
       "      <td>0</td>\n",
       "      <td>3</td>\n",
       "      <td>Palsson, Master. Gosta Leonard</td>\n",
       "      <td>male</td>\n",
       "      <td>2.0</td>\n",
       "      <td>3</td>\n",
       "      <td>1</td>\n",
       "      <td>349909</td>\n",
       "      <td>21.0750</td>\n",
       "      <td>NaN</td>\n",
       "      <td>S</td>\n",
       "    </tr>\n",
       "    <tr>\n",
       "      <th>8</th>\n",
       "      <td>9</td>\n",
       "      <td>1</td>\n",
       "      <td>3</td>\n",
       "      <td>Johnson, Mrs. Oscar W (Elisabeth Vilhelmina Berg)</td>\n",
       "      <td>female</td>\n",
       "      <td>27.0</td>\n",
       "      <td>0</td>\n",
       "      <td>2</td>\n",
       "      <td>347742</td>\n",
       "      <td>11.1333</td>\n",
       "      <td>NaN</td>\n",
       "      <td>S</td>\n",
       "    </tr>\n",
       "    <tr>\n",
       "      <th>9</th>\n",
       "      <td>10</td>\n",
       "      <td>1</td>\n",
       "      <td>2</td>\n",
       "      <td>Nasser, Mrs. Nicholas (Adele Achem)</td>\n",
       "      <td>female</td>\n",
       "      <td>14.0</td>\n",
       "      <td>1</td>\n",
       "      <td>0</td>\n",
       "      <td>237736</td>\n",
       "      <td>30.0708</td>\n",
       "      <td>NaN</td>\n",
       "      <td>C</td>\n",
       "    </tr>\n",
       "  </tbody>\n",
       "</table>\n",
       "</div>"
      ],
      "text/plain": [
       "   PassengerId  Survived  Pclass  \\\n",
       "0            1         0       3   \n",
       "1            2         1       1   \n",
       "2            3         1       3   \n",
       "3            4         1       1   \n",
       "4            5         0       3   \n",
       "5            6         0       3   \n",
       "6            7         0       1   \n",
       "7            8         0       3   \n",
       "8            9         1       3   \n",
       "9           10         1       2   \n",
       "\n",
       "                                                Name     Sex   Age  SibSp  \\\n",
       "0                            Braund, Mr. Owen Harris    male  22.0      1   \n",
       "1  Cumings, Mrs. John Bradley (Florence Briggs Th...  female  38.0      1   \n",
       "2                             Heikkinen, Miss. Laina  female  26.0      0   \n",
       "3       Futrelle, Mrs. Jacques Heath (Lily May Peel)  female  35.0      1   \n",
       "4                           Allen, Mr. William Henry    male  35.0      0   \n",
       "5                                   Moran, Mr. James    male   NaN      0   \n",
       "6                            McCarthy, Mr. Timothy J    male  54.0      0   \n",
       "7                     Palsson, Master. Gosta Leonard    male   2.0      3   \n",
       "8  Johnson, Mrs. Oscar W (Elisabeth Vilhelmina Berg)  female  27.0      0   \n",
       "9                Nasser, Mrs. Nicholas (Adele Achem)  female  14.0      1   \n",
       "\n",
       "   Parch            Ticket     Fare Cabin Embarked  \n",
       "0      0         A/5 21171   7.2500   NaN        S  \n",
       "1      0          PC 17599  71.2833   C85        C  \n",
       "2      0  STON/O2. 3101282   7.9250   NaN        S  \n",
       "3      0            113803  53.1000  C123        S  \n",
       "4      0            373450   8.0500   NaN        S  \n",
       "5      0            330877   8.4583   NaN        Q  \n",
       "6      0             17463  51.8625   E46        S  \n",
       "7      1            349909  21.0750   NaN        S  \n",
       "8      2            347742  11.1333   NaN        S  \n",
       "9      0            237736  30.0708   NaN        C  "
      ]
     },
     "execution_count": 2,
     "metadata": {},
     "output_type": "execute_result"
    }
   ],
   "source": [
    "# Imports\n",
    "import pandas as pd\n",
    "import numpy as np\n",
    "import seaborn as sns\n",
    "import matplotlib.pyplot as plt\n",
    "\n",
    "# Création du dataframe\n",
    "datanic_origin = pd.read_csv('Data/train.csv')\n",
    "datanic_origin.head(10)"
   ]
  },
  {
   "cell_type": "code",
   "execution_count": 3,
   "metadata": {},
   "outputs": [],
   "source": [
    "# Copie du dataframe\n",
    "datanic = datanic_origin.copy()"
   ]
  },
  {
   "cell_type": "code",
   "execution_count": 4,
   "metadata": {},
   "outputs": [
    {
     "name": "stdout",
     "output_type": "stream",
     "text": [
      "Forme de la base de données: \n",
      " (891, 12)\n",
      "\n",
      "Nom des colonnes: \n",
      " Index(['PassengerId', 'Survived', 'Pclass', 'Name', 'Sex', 'Age', 'SibSp',\n",
      "       'Parch', 'Ticket', 'Fare', 'Cabin', 'Embarked'],\n",
      "      dtype='object')\n",
      "\n",
      "<class 'pandas.core.frame.DataFrame'>\n",
      "RangeIndex: 891 entries, 0 to 890\n",
      "Data columns (total 12 columns):\n",
      " #   Column       Non-Null Count  Dtype  \n",
      "---  ------       --------------  -----  \n",
      " 0   PassengerId  891 non-null    int64  \n",
      " 1   Survived     891 non-null    int64  \n",
      " 2   Pclass       891 non-null    int64  \n",
      " 3   Name         891 non-null    object \n",
      " 4   Sex          891 non-null    object \n",
      " 5   Age          714 non-null    float64\n",
      " 6   SibSp        891 non-null    int64  \n",
      " 7   Parch        891 non-null    int64  \n",
      " 8   Ticket       891 non-null    object \n",
      " 9   Fare         891 non-null    float64\n",
      " 10  Cabin        204 non-null    object \n",
      " 11  Embarked     889 non-null    object \n",
      "dtypes: float64(2), int64(5), object(5)\n",
      "memory usage: 83.7+ KB\n",
      "Forme de la base de données: \n",
      " None\n"
     ]
    }
   ],
   "source": [
    "# Forme et infos du dataframe\n",
    "print(f\"Forme de la base de données: \\n {datanic.shape}\\n\")\n",
    "print(f\"Nom des colonnes: \\n {datanic.columns}\\n\")\n",
    "print(f\"Forme de la base de données: \\n {datanic.info()}\")"
   ]
  },
  {
   "cell_type": "code",
   "execution_count": 5,
   "metadata": {},
   "outputs": [
    {
     "data": {
      "text/plain": [
       "PassengerId      0\n",
       "Survived         0\n",
       "Pclass           0\n",
       "Name             0\n",
       "Sex              0\n",
       "Age            177\n",
       "SibSp            0\n",
       "Parch            0\n",
       "Ticket           0\n",
       "Fare             0\n",
       "Cabin          687\n",
       "Embarked         2\n",
       "dtype: int64"
      ]
     },
     "execution_count": 5,
     "metadata": {},
     "output_type": "execute_result"
    }
   ],
   "source": [
    "def incomplete(data):\n",
    "    total_incomplete = data[:].isnull().sum()\n",
    "    return total_incomplete\n",
    "\n",
    "datanic.apply(incomplete, axis=0)"
   ]
  },
  {
   "cell_type": "code",
   "execution_count": 6,
   "metadata": {},
   "outputs": [
    {
     "data": {
      "text/plain": [
       "PassengerId      0\n",
       "Survived         0\n",
       "Pclass           0\n",
       "Name             0\n",
       "Sex              0\n",
       "Age            177\n",
       "SibSp            0\n",
       "Parch            0\n",
       "Ticket           0\n",
       "Fare             0\n",
       "Embarked         2\n",
       "dtype: int64"
      ]
     },
     "execution_count": 6,
     "metadata": {},
     "output_type": "execute_result"
    }
   ],
   "source": [
    "# Suppression de la colonne \"Cabin\" : trop de données manquantes\n",
    "\n",
    "del datanic['Cabin']\n",
    "datanic.apply(incomplete, axis=0)"
   ]
  },
  {
   "cell_type": "code",
   "execution_count": 7,
   "metadata": {},
   "outputs": [
    {
     "data": {
      "text/plain": [
       "PassengerId      0\n",
       "Survived         0\n",
       "Pclass           0\n",
       "Name             0\n",
       "Sex              0\n",
       "Age            177\n",
       "SibSp            0\n",
       "Parch            0\n",
       "Fare             0\n",
       "Embarked         2\n",
       "dtype: int64"
      ]
     },
     "execution_count": 7,
     "metadata": {},
     "output_type": "execute_result"
    }
   ],
   "source": [
    "# Suppression de la colonne \"Ticket\" car le numéro du ticket n'est pas une donnée pertinente\n",
    "\n",
    "del datanic['Ticket']\n",
    "datanic.apply(incomplete, axis=0)"
   ]
  },
  {
   "cell_type": "code",
   "execution_count": 8,
   "metadata": {},
   "outputs": [],
   "source": [
    "# Drop des lignes aux données manquantes\n",
    "\n",
    "datanic.dropna(axis = 0, subset = [\"Age\", \"Embarked\"], inplace=True)"
   ]
  },
  {
   "cell_type": "code",
   "execution_count": 9,
   "metadata": {},
   "outputs": [
    {
     "data": {
      "text/html": [
       "<div>\n",
       "<style scoped>\n",
       "    .dataframe tbody tr th:only-of-type {\n",
       "        vertical-align: middle;\n",
       "    }\n",
       "\n",
       "    .dataframe tbody tr th {\n",
       "        vertical-align: top;\n",
       "    }\n",
       "\n",
       "    .dataframe thead th {\n",
       "        text-align: right;\n",
       "    }\n",
       "</style>\n",
       "<table border=\"1\" class=\"dataframe\">\n",
       "  <thead>\n",
       "    <tr style=\"text-align: right;\">\n",
       "      <th></th>\n",
       "      <th>Pclass</th>\n",
       "      <th>Name</th>\n",
       "      <th>Sex</th>\n",
       "      <th>Age</th>\n",
       "      <th>Age_label</th>\n",
       "      <th>Survived</th>\n",
       "    </tr>\n",
       "  </thead>\n",
       "  <tbody>\n",
       "    <tr>\n",
       "      <th>0</th>\n",
       "      <td>3</td>\n",
       "      <td>Braund, Mr. Owen Harris</td>\n",
       "      <td>male</td>\n",
       "      <td>22.0</td>\n",
       "      <td>Adult</td>\n",
       "      <td>0</td>\n",
       "    </tr>\n",
       "    <tr>\n",
       "      <th>1</th>\n",
       "      <td>1</td>\n",
       "      <td>Cumings, Mrs. John Bradley (Florence Briggs Th...</td>\n",
       "      <td>female</td>\n",
       "      <td>38.0</td>\n",
       "      <td>Adult</td>\n",
       "      <td>1</td>\n",
       "    </tr>\n",
       "    <tr>\n",
       "      <th>2</th>\n",
       "      <td>3</td>\n",
       "      <td>Heikkinen, Miss. Laina</td>\n",
       "      <td>female</td>\n",
       "      <td>26.0</td>\n",
       "      <td>Adult</td>\n",
       "      <td>1</td>\n",
       "    </tr>\n",
       "    <tr>\n",
       "      <th>3</th>\n",
       "      <td>1</td>\n",
       "      <td>Futrelle, Mrs. Jacques Heath (Lily May Peel)</td>\n",
       "      <td>female</td>\n",
       "      <td>35.0</td>\n",
       "      <td>Adult</td>\n",
       "      <td>1</td>\n",
       "    </tr>\n",
       "    <tr>\n",
       "      <th>4</th>\n",
       "      <td>3</td>\n",
       "      <td>Allen, Mr. William Henry</td>\n",
       "      <td>male</td>\n",
       "      <td>35.0</td>\n",
       "      <td>Adult</td>\n",
       "      <td>0</td>\n",
       "    </tr>\n",
       "  </tbody>\n",
       "</table>\n",
       "</div>"
      ],
      "text/plain": [
       "   Pclass                                               Name     Sex   Age  \\\n",
       "0       3                            Braund, Mr. Owen Harris    male  22.0   \n",
       "1       1  Cumings, Mrs. John Bradley (Florence Briggs Th...  female  38.0   \n",
       "2       3                             Heikkinen, Miss. Laina  female  26.0   \n",
       "3       1       Futrelle, Mrs. Jacques Heath (Lily May Peel)  female  35.0   \n",
       "4       3                           Allen, Mr. William Henry    male  35.0   \n",
       "\n",
       "  Age_label  Survived  \n",
       "0     Adult         0  \n",
       "1     Adult         1  \n",
       "2     Adult         1  \n",
       "3     Adult         1  \n",
       "4     Adult         0  "
      ]
     },
     "execution_count": 9,
     "metadata": {},
     "output_type": "execute_result"
    }
   ],
   "source": [
    "# Création d'une colonne pour la répartition d'âge classée par \"Minor, Adult, Senior\"\n",
    "\n",
    "def sort_age(line):\n",
    "    age_label = line['Age']\n",
    "    if line['Age'] < 18:\n",
    "        return 'Minor'\n",
    "    elif line['Age'] >= 18 :\n",
    "        return 'Adult'\n",
    "    else :\n",
    "        return 'Unknown'\n",
    "    \n",
    "datanic[\"Age_label\"] = datanic.apply(sort_age, axis = 1)\n",
    "datanic.loc[:,[\"Pclass\", \"Name\", \"Sex\", \"Age\", \"Age_label\", \"Survived\"]].head()"
   ]
  },
  {
   "cell_type": "code",
   "execution_count": 10,
   "metadata": {},
   "outputs": [
    {
     "data": {
      "text/html": [
       "<div>\n",
       "<style scoped>\n",
       "    .dataframe tbody tr th:only-of-type {\n",
       "        vertical-align: middle;\n",
       "    }\n",
       "\n",
       "    .dataframe tbody tr th {\n",
       "        vertical-align: top;\n",
       "    }\n",
       "\n",
       "    .dataframe thead th {\n",
       "        text-align: right;\n",
       "    }\n",
       "</style>\n",
       "<table border=\"1\" class=\"dataframe\">\n",
       "  <thead>\n",
       "    <tr style=\"text-align: right;\">\n",
       "      <th></th>\n",
       "      <th>Pclass</th>\n",
       "      <th>Name</th>\n",
       "      <th>Sex</th>\n",
       "      <th>Age_Sex</th>\n",
       "      <th>Age</th>\n",
       "      <th>Age_label</th>\n",
       "      <th>Survived</th>\n",
       "    </tr>\n",
       "  </thead>\n",
       "  <tbody>\n",
       "    <tr>\n",
       "      <th>0</th>\n",
       "      <td>3</td>\n",
       "      <td>Braund, Mr. Owen Harris</td>\n",
       "      <td>male</td>\n",
       "      <td>Adult male</td>\n",
       "      <td>22.0</td>\n",
       "      <td>Adult</td>\n",
       "      <td>0</td>\n",
       "    </tr>\n",
       "    <tr>\n",
       "      <th>1</th>\n",
       "      <td>1</td>\n",
       "      <td>Cumings, Mrs. John Bradley (Florence Briggs Th...</td>\n",
       "      <td>female</td>\n",
       "      <td>Adult female</td>\n",
       "      <td>38.0</td>\n",
       "      <td>Adult</td>\n",
       "      <td>1</td>\n",
       "    </tr>\n",
       "    <tr>\n",
       "      <th>2</th>\n",
       "      <td>3</td>\n",
       "      <td>Heikkinen, Miss. Laina</td>\n",
       "      <td>female</td>\n",
       "      <td>Adult female</td>\n",
       "      <td>26.0</td>\n",
       "      <td>Adult</td>\n",
       "      <td>1</td>\n",
       "    </tr>\n",
       "    <tr>\n",
       "      <th>3</th>\n",
       "      <td>1</td>\n",
       "      <td>Futrelle, Mrs. Jacques Heath (Lily May Peel)</td>\n",
       "      <td>female</td>\n",
       "      <td>Adult female</td>\n",
       "      <td>35.0</td>\n",
       "      <td>Adult</td>\n",
       "      <td>1</td>\n",
       "    </tr>\n",
       "    <tr>\n",
       "      <th>4</th>\n",
       "      <td>3</td>\n",
       "      <td>Allen, Mr. William Henry</td>\n",
       "      <td>male</td>\n",
       "      <td>Adult male</td>\n",
       "      <td>35.0</td>\n",
       "      <td>Adult</td>\n",
       "      <td>0</td>\n",
       "    </tr>\n",
       "  </tbody>\n",
       "</table>\n",
       "</div>"
      ],
      "text/plain": [
       "   Pclass                                               Name     Sex  \\\n",
       "0       3                            Braund, Mr. Owen Harris    male   \n",
       "1       1  Cumings, Mrs. John Bradley (Florence Briggs Th...  female   \n",
       "2       3                             Heikkinen, Miss. Laina  female   \n",
       "3       1       Futrelle, Mrs. Jacques Heath (Lily May Peel)  female   \n",
       "4       3                           Allen, Mr. William Henry    male   \n",
       "\n",
       "        Age_Sex   Age Age_label  Survived  \n",
       "0    Adult male  22.0     Adult         0  \n",
       "1  Adult female  38.0     Adult         1  \n",
       "2  Adult female  26.0     Adult         1  \n",
       "3  Adult female  35.0     Adult         1  \n",
       "4    Adult male  35.0     Adult         0  "
      ]
     },
     "execution_count": 10,
     "metadata": {},
     "output_type": "execute_result"
    }
   ],
   "source": [
    "datanic[\"Age_Sex\"] = datanic.loc[:, \"Age_label\"] + \" \" + datanic.loc[:, \"Sex\"]\n",
    "datanic.loc[:,[\"Pclass\", \"Name\", \"Sex\", \"Age_Sex\", \"Age\", \"Age_label\", \"Survived\"]].head()"
   ]
  },
  {
   "cell_type": "code",
   "execution_count": 11,
   "metadata": {},
   "outputs": [
    {
     "data": {
      "image/png": "[encoded data removed]",
      "text/plain": [
       "<Figure size 640x480 with 2 Axes>"
      ]
     },
     "metadata": {},
     "output_type": "display_data"
    }
   ],
   "source": [
    "import warnings\n",
    "warnings.filterwarnings('ignore')\n",
    "\n",
    "# Matrice de corrélation entre les variables numériques du dataframe\n",
    "plt.show(sns.heatmap(datanic.corr(), vmin = -1, vmax = +1, annot = True, cmap = 'coolwarm'))"
   ]
  },
  {
   "cell_type": "code",
   "execution_count": 12,
   "metadata": {},
   "outputs": [
    {
     "data": {
      "text/html": [
       "<div>\n",
       "<style scoped>\n",
       "    .dataframe tbody tr th:only-of-type {\n",
       "        vertical-align: middle;\n",
       "    }\n",
       "\n",
       "    .dataframe tbody tr th {\n",
       "        vertical-align: top;\n",
       "    }\n",
       "\n",
       "    .dataframe thead th {\n",
       "        text-align: right;\n",
       "    }\n",
       "</style>\n",
       "<table border=\"1\" class=\"dataframe\">\n",
       "  <thead>\n",
       "    <tr style=\"text-align: right;\">\n",
       "      <th></th>\n",
       "      <th>Pclass</th>\n",
       "      <th>Sex</th>\n",
       "      <th>Age_label</th>\n",
       "      <th>Age_Sex</th>\n",
       "      <th>Survived</th>\n",
       "    </tr>\n",
       "  </thead>\n",
       "  <tbody>\n",
       "    <tr>\n",
       "      <th>0</th>\n",
       "      <td>3</td>\n",
       "      <td>male</td>\n",
       "      <td>Adult</td>\n",
       "      <td>Adult male</td>\n",
       "      <td>0</td>\n",
       "    </tr>\n",
       "    <tr>\n",
       "      <th>1</th>\n",
       "      <td>1</td>\n",
       "      <td>female</td>\n",
       "      <td>Adult</td>\n",
       "      <td>Adult female</td>\n",
       "      <td>1</td>\n",
       "    </tr>\n",
       "    <tr>\n",
       "      <th>2</th>\n",
       "      <td>3</td>\n",
       "      <td>female</td>\n",
       "      <td>Adult</td>\n",
       "      <td>Adult female</td>\n",
       "      <td>1</td>\n",
       "    </tr>\n",
       "    <tr>\n",
       "      <th>3</th>\n",
       "      <td>1</td>\n",
       "      <td>female</td>\n",
       "      <td>Adult</td>\n",
       "      <td>Adult female</td>\n",
       "      <td>1</td>\n",
       "    </tr>\n",
       "    <tr>\n",
       "      <th>4</th>\n",
       "      <td>3</td>\n",
       "      <td>male</td>\n",
       "      <td>Adult</td>\n",
       "      <td>Adult male</td>\n",
       "      <td>0</td>\n",
       "    </tr>\n",
       "    <tr>\n",
       "      <th>...</th>\n",
       "      <td>...</td>\n",
       "      <td>...</td>\n",
       "      <td>...</td>\n",
       "      <td>...</td>\n",
       "      <td>...</td>\n",
       "    </tr>\n",
       "    <tr>\n",
       "      <th>885</th>\n",
       "      <td>3</td>\n",
       "      <td>female</td>\n",
       "      <td>Adult</td>\n",
       "      <td>Adult female</td>\n",
       "      <td>0</td>\n",
       "    </tr>\n",
       "    <tr>\n",
       "      <th>886</th>\n",
       "      <td>2</td>\n",
       "      <td>male</td>\n",
       "      <td>Adult</td>\n",
       "      <td>Adult male</td>\n",
       "      <td>0</td>\n",
       "    </tr>\n",
       "    <tr>\n",
       "      <th>887</th>\n",
       "      <td>1</td>\n",
       "      <td>female</td>\n",
       "      <td>Adult</td>\n",
       "      <td>Adult female</td>\n",
       "      <td>1</td>\n",
       "    </tr>\n",
       "    <tr>\n",
       "      <th>889</th>\n",
       "      <td>1</td>\n",
       "      <td>male</td>\n",
       "      <td>Adult</td>\n",
       "      <td>Adult male</td>\n",
       "      <td>1</td>\n",
       "    </tr>\n",
       "    <tr>\n",
       "      <th>890</th>\n",
       "      <td>3</td>\n",
       "      <td>male</td>\n",
       "      <td>Adult</td>\n",
       "      <td>Adult male</td>\n",
       "      <td>0</td>\n",
       "    </tr>\n",
       "  </tbody>\n",
       "</table>\n",
       "<p>712 rows × 5 columns</p>\n",
       "</div>"
      ],
      "text/plain": [
       "     Pclass     Sex Age_label       Age_Sex  Survived\n",
       "0         3    male     Adult    Adult male         0\n",
       "1         1  female     Adult  Adult female         1\n",
       "2         3  female     Adult  Adult female         1\n",
       "3         1  female     Adult  Adult female         1\n",
       "4         3    male     Adult    Adult male         0\n",
       "..      ...     ...       ...           ...       ...\n",
       "885       3  female     Adult  Adult female         0\n",
       "886       2    male     Adult    Adult male         0\n",
       "887       1  female     Adult  Adult female         1\n",
       "889       1    male     Adult    Adult male         1\n",
       "890       3    male     Adult    Adult male         0\n",
       "\n",
       "[712 rows x 5 columns]"
      ]
     },
     "execution_count": 12,
     "metadata": {},
     "output_type": "execute_result"
    }
   ],
   "source": [
    "datanic_small = datanic.loc[:, [\"Pclass\", \"Sex\", \"Age_label\", \"Age_Sex\", \"Survived\"]]\n",
    "datanic_small"
   ]
  },
  {
   "cell_type": "code",
   "execution_count": 13,
   "metadata": {},
   "outputs": [
    {
     "data": {
      "text/html": [
       "<div>\n",
       "<style scoped>\n",
       "    .dataframe tbody tr th:only-of-type {\n",
       "        vertical-align: middle;\n",
       "    }\n",
       "\n",
       "    .dataframe tbody tr th {\n",
       "        vertical-align: top;\n",
       "    }\n",
       "\n",
       "    .dataframe thead th {\n",
       "        text-align: right;\n",
       "    }\n",
       "</style>\n",
       "<table border=\"1\" class=\"dataframe\">\n",
       "  <thead>\n",
       "    <tr style=\"text-align: right;\">\n",
       "      <th></th>\n",
       "      <th>Embarked</th>\n",
       "      <th>Pclass</th>\n",
       "      <th>Sex</th>\n",
       "      <th>Age_Sex</th>\n",
       "      <th>Age</th>\n",
       "      <th>Age_label</th>\n",
       "      <th>Survived</th>\n",
       "    </tr>\n",
       "  </thead>\n",
       "  <tbody>\n",
       "    <tr>\n",
       "      <th>0</th>\n",
       "      <td>S</td>\n",
       "      <td>3</td>\n",
       "      <td>male</td>\n",
       "      <td>Adult male</td>\n",
       "      <td>22.0</td>\n",
       "      <td>Adult</td>\n",
       "      <td>0</td>\n",
       "    </tr>\n",
       "    <tr>\n",
       "      <th>1</th>\n",
       "      <td>C</td>\n",
       "      <td>1</td>\n",
       "      <td>female</td>\n",
       "      <td>Adult female</td>\n",
       "      <td>38.0</td>\n",
       "      <td>Adult</td>\n",
       "      <td>1</td>\n",
       "    </tr>\n",
       "    <tr>\n",
       "      <th>2</th>\n",
       "      <td>S</td>\n",
       "      <td>3</td>\n",
       "      <td>female</td>\n",
       "      <td>Adult female</td>\n",
       "      <td>26.0</td>\n",
       "      <td>Adult</td>\n",
       "      <td>1</td>\n",
       "    </tr>\n",
       "    <tr>\n",
       "      <th>3</th>\n",
       "      <td>S</td>\n",
       "      <td>1</td>\n",
       "      <td>female</td>\n",
       "      <td>Adult female</td>\n",
       "      <td>35.0</td>\n",
       "      <td>Adult</td>\n",
       "      <td>1</td>\n",
       "    </tr>\n",
       "    <tr>\n",
       "      <th>4</th>\n",
       "      <td>S</td>\n",
       "      <td>3</td>\n",
       "      <td>male</td>\n",
       "      <td>Adult male</td>\n",
       "      <td>35.0</td>\n",
       "      <td>Adult</td>\n",
       "      <td>0</td>\n",
       "    </tr>\n",
       "    <tr>\n",
       "      <th>...</th>\n",
       "      <td>...</td>\n",
       "      <td>...</td>\n",
       "      <td>...</td>\n",
       "      <td>...</td>\n",
       "      <td>...</td>\n",
       "      <td>...</td>\n",
       "      <td>...</td>\n",
       "    </tr>\n",
       "    <tr>\n",
       "      <th>885</th>\n",
       "      <td>Q</td>\n",
       "      <td>3</td>\n",
       "      <td>female</td>\n",
       "      <td>Adult female</td>\n",
       "      <td>39.0</td>\n",
       "      <td>Adult</td>\n",
       "      <td>0</td>\n",
       "    </tr>\n",
       "    <tr>\n",
       "      <th>886</th>\n",
       "      <td>S</td>\n",
       "      <td>2</td>\n",
       "      <td>male</td>\n",
       "      <td>Adult male</td>\n",
       "      <td>27.0</td>\n",
       "      <td>Adult</td>\n",
       "      <td>0</td>\n",
       "    </tr>\n",
       "    <tr>\n",
       "      <th>887</th>\n",
       "      <td>S</td>\n",
       "      <td>1</td>\n",
       "      <td>female</td>\n",
       "      <td>Adult female</td>\n",
       "      <td>19.0</td>\n",
       "      <td>Adult</td>\n",
       "      <td>1</td>\n",
       "    </tr>\n",
       "    <tr>\n",
       "      <th>889</th>\n",
       "      <td>C</td>\n",
       "      <td>1</td>\n",
       "      <td>male</td>\n",
       "      <td>Adult male</td>\n",
       "      <td>26.0</td>\n",
       "      <td>Adult</td>\n",
       "      <td>1</td>\n",
       "    </tr>\n",
       "    <tr>\n",
       "      <th>890</th>\n",
       "      <td>Q</td>\n",
       "      <td>3</td>\n",
       "      <td>male</td>\n",
       "      <td>Adult male</td>\n",
       "      <td>32.0</td>\n",
       "      <td>Adult</td>\n",
       "      <td>0</td>\n",
       "    </tr>\n",
       "  </tbody>\n",
       "</table>\n",
       "<p>712 rows × 7 columns</p>\n",
       "</div>"
      ],
      "text/plain": [
       "    Embarked  Pclass     Sex       Age_Sex   Age Age_label  Survived\n",
       "0          S       3    male    Adult male  22.0     Adult         0\n",
       "1          C       1  female  Adult female  38.0     Adult         1\n",
       "2          S       3  female  Adult female  26.0     Adult         1\n",
       "3          S       1  female  Adult female  35.0     Adult         1\n",
       "4          S       3    male    Adult male  35.0     Adult         0\n",
       "..       ...     ...     ...           ...   ...       ...       ...\n",
       "885        Q       3  female  Adult female  39.0     Adult         0\n",
       "886        S       2    male    Adult male  27.0     Adult         0\n",
       "887        S       1  female  Adult female  19.0     Adult         1\n",
       "889        C       1    male    Adult male  26.0     Adult         1\n",
       "890        Q       3    male    Adult male  32.0     Adult         0\n",
       "\n",
       "[712 rows x 7 columns]"
      ]
     },
     "execution_count": 13,
     "metadata": {},
     "output_type": "execute_result"
    }
   ],
   "source": [
    "datanic_medium = datanic.loc[:, [\"Embarked\", \"Pclass\", \"Sex\", \"Age_Sex\", \"Age\", \"Age_label\", \"Survived\"]]\n",
    "datanic_medium"
   ]
  },
  {
   "cell_type": "markdown",
   "metadata": {},
   "source": [
    "## Exploration des données"
   ]
  },
  {
   "cell_type": "markdown",
   "metadata": {},
   "source": [
    "Observation de la répartition par catégories"
   ]
  },
  {
   "cell_type": "code",
   "execution_count": 14,
   "metadata": {},
   "outputs": [
    {
     "name": "stdout",
     "output_type": "stream",
     "text": [
      "Répartition des personnes par classe : \n",
      "3    355\n",
      "1    184\n",
      "2    173\n",
      "Name: Pclass, dtype: int64\n",
      "\n",
      "Répartition des personnes par genre : \n",
      "male      453\n",
      "female    259\n",
      "Name: Sex, dtype: int64\n",
      "\n",
      "Répartition des personnes par âge (adulte/mineur) : \n",
      "Adult    599\n",
      "Minor    113\n",
      "Name: Age_label, dtype: int64\n",
      "\n",
      "Nombre de personnes décédées (0) et de survivants (1): \n",
      "0    424\n",
      "1    288\n",
      "Name: Survived, dtype: int64\n",
      "\n",
      "Répartition des personnes par lieu d'embarquement : \n",
      "S    554\n",
      "C    130\n",
      "Q     28\n",
      "Name: Embarked, dtype: int64\n"
     ]
    }
   ],
   "source": [
    "print(f\"Répartition des personnes par classe : \\n{datanic.loc[:, 'Pclass'].value_counts()}\\n\")\n",
    "print(f\"Répartition des personnes par genre : \\n{datanic.loc[:, 'Sex'].value_counts()}\\n\")\n",
    "print(f\"Répartition des personnes par âge (adulte/mineur) : \\n{datanic.loc[:, 'Age_label'].value_counts()}\\n\")\n",
    "print(f\"Nombre de personnes décédées (0) et de survivants (1): \\n{datanic.loc[:, 'Survived'].value_counts()}\\n\")\n",
    "print(f\"Répartition des personnes par lieu d'embarquement : \\n{datanic.loc[:, 'Embarked'].value_counts()}\")"
   ]
  },
  {
   "cell_type": "markdown",
   "metadata": {},
   "source": [
    "### Est-ce que la classe et le genre influencent les chances de survie?"
   ]
  },
  {
   "cell_type": "code",
   "execution_count": 15,
   "metadata": {},
   "outputs": [
    {
     "data": {
      "text/html": [
       "<div>\n",
       "<style scoped>\n",
       "    .dataframe tbody tr th:only-of-type {\n",
       "        vertical-align: middle;\n",
       "    }\n",
       "\n",
       "    .dataframe tbody tr th {\n",
       "        vertical-align: top;\n",
       "    }\n",
       "\n",
       "    .dataframe thead tr th {\n",
       "        text-align: left;\n",
       "    }\n",
       "\n",
       "    .dataframe thead tr:last-of-type th {\n",
       "        text-align: right;\n",
       "    }\n",
       "</style>\n",
       "<table border=\"1\" class=\"dataframe\">\n",
       "  <thead>\n",
       "    <tr>\n",
       "      <th></th>\n",
       "      <th>mean</th>\n",
       "      <th>sum</th>\n",
       "    </tr>\n",
       "    <tr>\n",
       "      <th></th>\n",
       "      <th>Survived</th>\n",
       "      <th>Survived</th>\n",
       "    </tr>\n",
       "    <tr>\n",
       "      <th>Pclass</th>\n",
       "      <th></th>\n",
       "      <th></th>\n",
       "    </tr>\n",
       "  </thead>\n",
       "  <tbody>\n",
       "    <tr>\n",
       "      <th>1</th>\n",
       "      <td>0.652174</td>\n",
       "      <td>120</td>\n",
       "    </tr>\n",
       "    <tr>\n",
       "      <th>2</th>\n",
       "      <td>0.479769</td>\n",
       "      <td>83</td>\n",
       "    </tr>\n",
       "    <tr>\n",
       "      <th>3</th>\n",
       "      <td>0.239437</td>\n",
       "      <td>85</td>\n",
       "    </tr>\n",
       "  </tbody>\n",
       "</table>\n",
       "</div>"
      ],
      "text/plain": [
       "            mean      sum\n",
       "        Survived Survived\n",
       "Pclass                   \n",
       "1       0.652174      120\n",
       "2       0.479769       83\n",
       "3       0.239437       85"
      ]
     },
     "execution_count": 15,
     "metadata": {},
     "output_type": "execute_result"
    }
   ],
   "source": [
    "# Chances de survie par classe\n",
    "\n",
    "datanic.pivot_table(index = \"Pclass\", values = [\"Survived\"], aggfunc = [np.mean,sum])"
   ]
  },
  {
   "cell_type": "code",
   "execution_count": 16,
   "metadata": {},
   "outputs": [
    {
     "data": {
      "text/html": [
       "<div>\n",
       "<style scoped>\n",
       "    .dataframe tbody tr th:only-of-type {\n",
       "        vertical-align: middle;\n",
       "    }\n",
       "\n",
       "    .dataframe tbody tr th {\n",
       "        vertical-align: top;\n",
       "    }\n",
       "\n",
       "    .dataframe thead tr th {\n",
       "        text-align: left;\n",
       "    }\n",
       "\n",
       "    .dataframe thead tr:last-of-type th {\n",
       "        text-align: right;\n",
       "    }\n",
       "</style>\n",
       "<table border=\"1\" class=\"dataframe\">\n",
       "  <thead>\n",
       "    <tr>\n",
       "      <th></th>\n",
       "      <th>mean</th>\n",
       "      <th>sum</th>\n",
       "    </tr>\n",
       "    <tr>\n",
       "      <th></th>\n",
       "      <th>Survived</th>\n",
       "      <th>Survived</th>\n",
       "    </tr>\n",
       "    <tr>\n",
       "      <th>Sex</th>\n",
       "      <th></th>\n",
       "      <th></th>\n",
       "    </tr>\n",
       "  </thead>\n",
       "  <tbody>\n",
       "    <tr>\n",
       "      <th>female</th>\n",
       "      <td>0.752896</td>\n",
       "      <td>195</td>\n",
       "    </tr>\n",
       "    <tr>\n",
       "      <th>male</th>\n",
       "      <td>0.205298</td>\n",
       "      <td>93</td>\n",
       "    </tr>\n",
       "  </tbody>\n",
       "</table>\n",
       "</div>"
      ],
      "text/plain": [
       "            mean      sum\n",
       "        Survived Survived\n",
       "Sex                      \n",
       "female  0.752896      195\n",
       "male    0.205298       93"
      ]
     },
     "execution_count": 16,
     "metadata": {},
     "output_type": "execute_result"
    }
   ],
   "source": [
    "# Chances de survie par genre (non binaire exclu) et total\n",
    "\n",
    "datanic.pivot_table(index=[\"Sex\"], values = [\"Survived\"], aggfunc = [np.mean,sum])"
   ]
  },
  {
   "cell_type": "code",
   "execution_count": 17,
   "metadata": {},
   "outputs": [
    {
     "data": {
      "text/html": [
       "<div>\n",
       "<style scoped>\n",
       "    .dataframe tbody tr th:only-of-type {\n",
       "        vertical-align: middle;\n",
       "    }\n",
       "\n",
       "    .dataframe tbody tr th {\n",
       "        vertical-align: top;\n",
       "    }\n",
       "\n",
       "    .dataframe thead tr th {\n",
       "        text-align: left;\n",
       "    }\n",
       "\n",
       "    .dataframe thead tr:last-of-type th {\n",
       "        text-align: right;\n",
       "    }\n",
       "</style>\n",
       "<table border=\"1\" class=\"dataframe\">\n",
       "  <thead>\n",
       "    <tr>\n",
       "      <th></th>\n",
       "      <th></th>\n",
       "      <th>mean</th>\n",
       "      <th>sum</th>\n",
       "    </tr>\n",
       "    <tr>\n",
       "      <th></th>\n",
       "      <th></th>\n",
       "      <th>Survived</th>\n",
       "      <th>Survived</th>\n",
       "    </tr>\n",
       "    <tr>\n",
       "      <th>Pclass</th>\n",
       "      <th>Sex</th>\n",
       "      <th></th>\n",
       "      <th></th>\n",
       "    </tr>\n",
       "  </thead>\n",
       "  <tbody>\n",
       "    <tr>\n",
       "      <th rowspan=\"2\" valign=\"top\">1</th>\n",
       "      <th>female</th>\n",
       "      <td>0.963855</td>\n",
       "      <td>80</td>\n",
       "    </tr>\n",
       "    <tr>\n",
       "      <th>male</th>\n",
       "      <td>0.396040</td>\n",
       "      <td>40</td>\n",
       "    </tr>\n",
       "    <tr>\n",
       "      <th rowspan=\"2\" valign=\"top\">2</th>\n",
       "      <th>female</th>\n",
       "      <td>0.918919</td>\n",
       "      <td>68</td>\n",
       "    </tr>\n",
       "    <tr>\n",
       "      <th>male</th>\n",
       "      <td>0.151515</td>\n",
       "      <td>15</td>\n",
       "    </tr>\n",
       "    <tr>\n",
       "      <th rowspan=\"2\" valign=\"top\">3</th>\n",
       "      <th>female</th>\n",
       "      <td>0.460784</td>\n",
       "      <td>47</td>\n",
       "    </tr>\n",
       "    <tr>\n",
       "      <th>male</th>\n",
       "      <td>0.150198</td>\n",
       "      <td>38</td>\n",
       "    </tr>\n",
       "  </tbody>\n",
       "</table>\n",
       "</div>"
      ],
      "text/plain": [
       "                   mean      sum\n",
       "               Survived Survived\n",
       "Pclass Sex                      \n",
       "1      female  0.963855       80\n",
       "       male    0.396040       40\n",
       "2      female  0.918919       68\n",
       "       male    0.151515       15\n",
       "3      female  0.460784       47\n",
       "       male    0.150198       38"
      ]
     },
     "execution_count": 17,
     "metadata": {},
     "output_type": "execute_result"
    }
   ],
   "source": [
    "# Chances de survie par classe et par genre et total\n",
    "\n",
    "datanic.pivot_table(index = [\"Pclass\", \"Sex\"], values = [\"Survived\"], aggfunc = [np.mean,sum])"
   ]
  },
  {
   "cell_type": "code",
   "execution_count": 18,
   "metadata": {},
   "outputs": [
    {
     "data": {
      "image/png": "[encoded data removed]",
      "text/plain": [
       "<Figure size 640x480 with 1 Axes>"
      ]
     },
     "metadata": {},
     "output_type": "display_data"
    }
   ],
   "source": [
    "sns.barplot(data=datanic_small, x=\"Sex\", y=\"Survived\",hue=\"Pclass\", palette=\"colorblind\", estimator='mean')\n",
    "plt.show()"
   ]
  },
  {
   "cell_type": "code",
   "execution_count": 19,
   "metadata": {},
   "outputs": [
    {
     "data": {
      "image/png": "[encoded data removed]",
      "text/plain": [
       "<Figure size 640x480 with 1 Axes>"
      ]
     },
     "metadata": {},
     "output_type": "display_data"
    }
   ],
   "source": [
    "sns.barplot(data=datanic_small, x=\"Sex\", y=\"Survived\",hue=\"Pclass\", palette=\"colorblind\", estimator='sum')\n",
    "plt.show()"
   ]
  },
  {
   "cell_type": "code",
   "execution_count": 20,
   "metadata": {},
   "outputs": [
    {
     "data": {
      "image/png": "[encoded data removed]",
      "text/plain": [
       "<Figure size 640x480 with 1 Axes>"
      ]
     },
     "metadata": {},
     "output_type": "display_data"
    }
   ],
   "source": [
    "sns.barplot(data=datanic_small, x=\"Pclass\", y=\"Survived\", hue=\"Sex\", palette=\"colorblind\", estimator='mean')\n",
    "plt.show()"
   ]
  },
  {
   "cell_type": "code",
   "execution_count": 21,
   "metadata": {},
   "outputs": [
    {
     "data": {
      "image/png": "[encoded data removed]",
      "text/plain": [
       "<Figure size 640x480 with 1 Axes>"
      ]
     },
     "metadata": {},
     "output_type": "display_data"
    }
   ],
   "source": [
    "sns.barplot(data=datanic_small, x=\"Pclass\", y=\"Survived\", hue=\"Sex\", palette=\"colorblind\", estimator='sum')\n",
    "plt.show()"
   ]
  },
  {
   "cell_type": "markdown",
   "metadata": {},
   "source": [
    "Les deux critères de classe et de genre semblent très discriminants dans la mesure du taux de survie des passagers.\n",
    "Si on faisait un classement des personnes ayant davantage survécu, le résultat parle de lui-même :\n",
    "1. Femme en 1ère classe\n",
    "2. Femme en 2ème classe\n",
    "3. Femme en 3ème classe\n",
    "4. Homme en 1ère classe\n",
    "5. Homme en 2ème classe\n",
    "6. Homme en 3ème classe\n",
    "\n",
    "On va explorer le reste des données pour essayer de voir s'il y a d'autres critères discriminants dans le taux de survie."
   ]
  },
  {
   "cell_type": "markdown",
   "metadata": {},
   "source": [
    "### Est-ce que le lieu d'embarquement influence les chances de survie?"
   ]
  },
  {
   "cell_type": "code",
   "execution_count": 22,
   "metadata": {},
   "outputs": [
    {
     "data": {
      "text/html": [
       "<div>\n",
       "<style scoped>\n",
       "    .dataframe tbody tr th:only-of-type {\n",
       "        vertical-align: middle;\n",
       "    }\n",
       "\n",
       "    .dataframe tbody tr th {\n",
       "        vertical-align: top;\n",
       "    }\n",
       "\n",
       "    .dataframe thead tr th {\n",
       "        text-align: left;\n",
       "    }\n",
       "\n",
       "    .dataframe thead tr:last-of-type th {\n",
       "        text-align: right;\n",
       "    }\n",
       "</style>\n",
       "<table border=\"1\" class=\"dataframe\">\n",
       "  <thead>\n",
       "    <tr>\n",
       "      <th></th>\n",
       "      <th>mean</th>\n",
       "      <th>sum</th>\n",
       "    </tr>\n",
       "    <tr>\n",
       "      <th></th>\n",
       "      <th>Survived</th>\n",
       "      <th>Survived</th>\n",
       "    </tr>\n",
       "    <tr>\n",
       "      <th>Embarked</th>\n",
       "      <th></th>\n",
       "      <th></th>\n",
       "    </tr>\n",
       "  </thead>\n",
       "  <tbody>\n",
       "    <tr>\n",
       "      <th>C</th>\n",
       "      <td>0.607692</td>\n",
       "      <td>79</td>\n",
       "    </tr>\n",
       "    <tr>\n",
       "      <th>Q</th>\n",
       "      <td>0.285714</td>\n",
       "      <td>8</td>\n",
       "    </tr>\n",
       "    <tr>\n",
       "      <th>S</th>\n",
       "      <td>0.362816</td>\n",
       "      <td>201</td>\n",
       "    </tr>\n",
       "  </tbody>\n",
       "</table>\n",
       "</div>"
      ],
      "text/plain": [
       "              mean      sum\n",
       "          Survived Survived\n",
       "Embarked                   \n",
       "C         0.607692       79\n",
       "Q         0.285714        8\n",
       "S         0.362816      201"
      ]
     },
     "execution_count": 22,
     "metadata": {},
     "output_type": "execute_result"
    }
   ],
   "source": [
    "# Survie par lieu d'embarquement\n",
    "\n",
    "datanic.pivot_table(index=[\"Embarked\"], values = [\"Survived\"], aggfunc = [np.mean,sum])"
   ]
  },
  {
   "cell_type": "code",
   "execution_count": 23,
   "metadata": {},
   "outputs": [
    {
     "data": {
      "text/plain": [
       "S    554\n",
       "C    130\n",
       "Q     28\n",
       "Name: Embarked, dtype: int64"
      ]
     },
     "execution_count": 23,
     "metadata": {},
     "output_type": "execute_result"
    }
   ],
   "source": [
    "datanic.loc[:, \"Embarked\"].value_counts()"
   ]
  },
  {
   "cell_type": "code",
   "execution_count": 24,
   "metadata": {},
   "outputs": [
    {
     "data": {
      "text/plain": [
       "Embarked  Survived\n",
       "C         1            79\n",
       "          0            51\n",
       "Q         0            20\n",
       "          1             8\n",
       "S         0           353\n",
       "          1           201\n",
       "Name: Survived, dtype: int64"
      ]
     },
     "execution_count": 24,
     "metadata": {},
     "output_type": "execute_result"
    }
   ],
   "source": [
    "datanic.groupby('Embarked').Survived.value_counts()"
   ]
  },
  {
   "cell_type": "code",
   "execution_count": 25,
   "metadata": {},
   "outputs": [
    {
     "data": {
      "text/plain": [
       "Embarked  Pclass\n",
       "C         1          74\n",
       "          3          41\n",
       "          2          15\n",
       "Q         3          24\n",
       "          1           2\n",
       "          2           2\n",
       "S         3         290\n",
       "          2         156\n",
       "          1         108\n",
       "Name: Pclass, dtype: int64"
      ]
     },
     "execution_count": 25,
     "metadata": {},
     "output_type": "execute_result"
    }
   ],
   "source": [
    "datanic.groupby('Embarked').Pclass.value_counts()"
   ]
  },
  {
   "cell_type": "markdown",
   "metadata": {},
   "source": [
    "Plusieurs données intéressantes sont à prendre en compte:\n",
    "- Le lieu d'embarquement \"Q\" pour Queenstown en Irlande a été principalement utilisé par des personnes voyageant en 3ème classe. Seulement 2 personnes étaient en 1ère, 2 personnes en 2ème contre 24 personnes en 3ème.\n",
    "- L'embarquement \"C\" pour Cherbourg en France a été principalement utilisé par des personnes voyegant en 1ère classe : 74 personnes contre seulement 15 pour la 2ème classe et 41 pour la 3ème classe. La catégorie \"C\" est donc davantage représentée par des personnes de 1ère classe alors que pour \"Q\" et \"S\" la 1ère classe est souvent la catégorie ayant le moins de voyageurs."
   ]
  },
  {
   "cell_type": "code",
   "execution_count": 26,
   "metadata": {},
   "outputs": [
    {
     "data": {
      "text/html": [
       "<div>\n",
       "<style scoped>\n",
       "    .dataframe tbody tr th:only-of-type {\n",
       "        vertical-align: middle;\n",
       "    }\n",
       "\n",
       "    .dataframe tbody tr th {\n",
       "        vertical-align: top;\n",
       "    }\n",
       "\n",
       "    .dataframe thead tr th {\n",
       "        text-align: left;\n",
       "    }\n",
       "\n",
       "    .dataframe thead tr:last-of-type th {\n",
       "        text-align: right;\n",
       "    }\n",
       "</style>\n",
       "<table border=\"1\" class=\"dataframe\">\n",
       "  <thead>\n",
       "    <tr>\n",
       "      <th></th>\n",
       "      <th></th>\n",
       "      <th>mean</th>\n",
       "      <th>sum</th>\n",
       "    </tr>\n",
       "    <tr>\n",
       "      <th></th>\n",
       "      <th></th>\n",
       "      <th>Survived</th>\n",
       "      <th>Survived</th>\n",
       "    </tr>\n",
       "    <tr>\n",
       "      <th>Embarked</th>\n",
       "      <th>Pclass</th>\n",
       "      <th></th>\n",
       "      <th></th>\n",
       "    </tr>\n",
       "  </thead>\n",
       "  <tbody>\n",
       "    <tr>\n",
       "      <th rowspan=\"3\" valign=\"top\">C</th>\n",
       "      <th>1</th>\n",
       "      <td>0.716216</td>\n",
       "      <td>53</td>\n",
       "    </tr>\n",
       "    <tr>\n",
       "      <th>2</th>\n",
       "      <td>0.533333</td>\n",
       "      <td>8</td>\n",
       "    </tr>\n",
       "    <tr>\n",
       "      <th>3</th>\n",
       "      <td>0.439024</td>\n",
       "      <td>18</td>\n",
       "    </tr>\n",
       "    <tr>\n",
       "      <th rowspan=\"3\" valign=\"top\">Q</th>\n",
       "      <th>1</th>\n",
       "      <td>0.500000</td>\n",
       "      <td>1</td>\n",
       "    </tr>\n",
       "    <tr>\n",
       "      <th>2</th>\n",
       "      <td>0.500000</td>\n",
       "      <td>1</td>\n",
       "    </tr>\n",
       "    <tr>\n",
       "      <th>3</th>\n",
       "      <td>0.250000</td>\n",
       "      <td>6</td>\n",
       "    </tr>\n",
       "    <tr>\n",
       "      <th rowspan=\"3\" valign=\"top\">S</th>\n",
       "      <th>1</th>\n",
       "      <td>0.611111</td>\n",
       "      <td>66</td>\n",
       "    </tr>\n",
       "    <tr>\n",
       "      <th>2</th>\n",
       "      <td>0.474359</td>\n",
       "      <td>74</td>\n",
       "    </tr>\n",
       "    <tr>\n",
       "      <th>3</th>\n",
       "      <td>0.210345</td>\n",
       "      <td>61</td>\n",
       "    </tr>\n",
       "  </tbody>\n",
       "</table>\n",
       "</div>"
      ],
      "text/plain": [
       "                     mean      sum\n",
       "                 Survived Survived\n",
       "Embarked Pclass                   \n",
       "C        1       0.716216       53\n",
       "         2       0.533333        8\n",
       "         3       0.439024       18\n",
       "Q        1       0.500000        1\n",
       "         2       0.500000        1\n",
       "         3       0.250000        6\n",
       "S        1       0.611111       66\n",
       "         2       0.474359       74\n",
       "         3       0.210345       61"
      ]
     },
     "execution_count": 26,
     "metadata": {},
     "output_type": "execute_result"
    }
   ],
   "source": [
    "# Survie par lieu d'embarquement et par classe\n",
    "datanic.pivot_table(index=[\"Embarked\", \"Pclass\"], values = [\"Survived\"], aggfunc = [np.mean,sum])"
   ]
  },
  {
   "cell_type": "code",
   "execution_count": 27,
   "metadata": {},
   "outputs": [
    {
     "data": {
      "text/html": [
       "<div>\n",
       "<style scoped>\n",
       "    .dataframe tbody tr th:only-of-type {\n",
       "        vertical-align: middle;\n",
       "    }\n",
       "\n",
       "    .dataframe tbody tr th {\n",
       "        vertical-align: top;\n",
       "    }\n",
       "\n",
       "    .dataframe thead tr th {\n",
       "        text-align: left;\n",
       "    }\n",
       "\n",
       "    .dataframe thead tr:last-of-type th {\n",
       "        text-align: right;\n",
       "    }\n",
       "</style>\n",
       "<table border=\"1\" class=\"dataframe\">\n",
       "  <thead>\n",
       "    <tr>\n",
       "      <th></th>\n",
       "      <th></th>\n",
       "      <th>mean</th>\n",
       "      <th>sum</th>\n",
       "    </tr>\n",
       "    <tr>\n",
       "      <th></th>\n",
       "      <th></th>\n",
       "      <th>Survived</th>\n",
       "      <th>Survived</th>\n",
       "    </tr>\n",
       "    <tr>\n",
       "      <th>Embarked</th>\n",
       "      <th>Sex</th>\n",
       "      <th></th>\n",
       "      <th></th>\n",
       "    </tr>\n",
       "  </thead>\n",
       "  <tbody>\n",
       "    <tr>\n",
       "      <th rowspan=\"2\" valign=\"top\">C</th>\n",
       "      <th>female</th>\n",
       "      <td>0.901639</td>\n",
       "      <td>55</td>\n",
       "    </tr>\n",
       "    <tr>\n",
       "      <th>male</th>\n",
       "      <td>0.347826</td>\n",
       "      <td>24</td>\n",
       "    </tr>\n",
       "    <tr>\n",
       "      <th rowspan=\"2\" valign=\"top\">Q</th>\n",
       "      <th>female</th>\n",
       "      <td>0.583333</td>\n",
       "      <td>7</td>\n",
       "    </tr>\n",
       "    <tr>\n",
       "      <th>male</th>\n",
       "      <td>0.062500</td>\n",
       "      <td>1</td>\n",
       "    </tr>\n",
       "    <tr>\n",
       "      <th rowspan=\"2\" valign=\"top\">S</th>\n",
       "      <th>female</th>\n",
       "      <td>0.715054</td>\n",
       "      <td>133</td>\n",
       "    </tr>\n",
       "    <tr>\n",
       "      <th>male</th>\n",
       "      <td>0.184783</td>\n",
       "      <td>68</td>\n",
       "    </tr>\n",
       "  </tbody>\n",
       "</table>\n",
       "</div>"
      ],
      "text/plain": [
       "                     mean      sum\n",
       "                 Survived Survived\n",
       "Embarked Sex                      \n",
       "C        female  0.901639       55\n",
       "         male    0.347826       24\n",
       "Q        female  0.583333        7\n",
       "         male    0.062500        1\n",
       "S        female  0.715054      133\n",
       "         male    0.184783       68"
      ]
     },
     "execution_count": 27,
     "metadata": {},
     "output_type": "execute_result"
    }
   ],
   "source": [
    "# Survie par lieu d'embarquement et par genre\n",
    "datanic.pivot_table(index=[\"Embarked\", \"Sex\"], values = [\"Survived\"], aggfunc = [np.mean,sum])"
   ]
  },
  {
   "cell_type": "markdown",
   "metadata": {},
   "source": [
    "Pour \"Q\" : \n",
    "- 1ère et 2ème classe, seulement 2 personnes par classe et un taux de survie de 50% par classe. La moyenne n'est pas pertinente sur si peu de données.\n",
    "\n",
    "Pour \"C\" :\n",
    "- Le % de survie en 3ème classe est de 43%, supérieur à ceux de \"Q\" et \"S\", respectivement \"25% et 21%\". A voir si cela se justifie par une plus grande part de femmes dans le groupe \"C\"?"
   ]
  },
  {
   "cell_type": "code",
   "execution_count": 28,
   "metadata": {},
   "outputs": [
    {
     "data": {
      "text/plain": [
       "Embarked  Sex   \n",
       "C         male       69\n",
       "          female     61\n",
       "Q         male       16\n",
       "          female     12\n",
       "S         male      368\n",
       "          female    186\n",
       "Name: Sex, dtype: int64"
      ]
     },
     "execution_count": 28,
     "metadata": {},
     "output_type": "execute_result"
    }
   ],
   "source": [
    "datanic.groupby('Embarked').Sex.value_counts()"
   ]
  },
  {
   "cell_type": "markdown",
   "metadata": {},
   "source": [
    "La répartition par genre hors classe est plutôt homogène pour \"Q\" et \"C\", mais hétérogène pour \"S\". Il y a beaucoup plus d'hommes que de femmes ce qui peut aider à expliquer le taux de survie inférieur pour les personnes ayant embarqué à Southampton par rapport à Cherbourg ou Queenstown."
   ]
  },
  {
   "cell_type": "code",
   "execution_count": 29,
   "metadata": {},
   "outputs": [
    {
     "data": {
      "text/html": [
       "<div>\n",
       "<style scoped>\n",
       "    .dataframe tbody tr th:only-of-type {\n",
       "        vertical-align: middle;\n",
       "    }\n",
       "\n",
       "    .dataframe tbody tr th {\n",
       "        vertical-align: top;\n",
       "    }\n",
       "\n",
       "    .dataframe thead tr th {\n",
       "        text-align: left;\n",
       "    }\n",
       "\n",
       "    .dataframe thead tr:last-of-type th {\n",
       "        text-align: right;\n",
       "    }\n",
       "</style>\n",
       "<table border=\"1\" class=\"dataframe\">\n",
       "  <thead>\n",
       "    <tr>\n",
       "      <th></th>\n",
       "      <th></th>\n",
       "      <th></th>\n",
       "      <th>mean</th>\n",
       "      <th>sum</th>\n",
       "    </tr>\n",
       "    <tr>\n",
       "      <th></th>\n",
       "      <th></th>\n",
       "      <th></th>\n",
       "      <th>Survived</th>\n",
       "      <th>Survived</th>\n",
       "    </tr>\n",
       "    <tr>\n",
       "      <th>Embarked</th>\n",
       "      <th>Pclass</th>\n",
       "      <th>Sex</th>\n",
       "      <th></th>\n",
       "      <th></th>\n",
       "    </tr>\n",
       "  </thead>\n",
       "  <tbody>\n",
       "    <tr>\n",
       "      <th rowspan=\"6\" valign=\"top\">C</th>\n",
       "      <th rowspan=\"2\" valign=\"top\">1</th>\n",
       "      <th>female</th>\n",
       "      <td>0.973684</td>\n",
       "      <td>37</td>\n",
       "    </tr>\n",
       "    <tr>\n",
       "      <th>male</th>\n",
       "      <td>0.444444</td>\n",
       "      <td>16</td>\n",
       "    </tr>\n",
       "    <tr>\n",
       "      <th rowspan=\"2\" valign=\"top\">2</th>\n",
       "      <th>female</th>\n",
       "      <td>1.000000</td>\n",
       "      <td>7</td>\n",
       "    </tr>\n",
       "    <tr>\n",
       "      <th>male</th>\n",
       "      <td>0.125000</td>\n",
       "      <td>1</td>\n",
       "    </tr>\n",
       "    <tr>\n",
       "      <th rowspan=\"2\" valign=\"top\">3</th>\n",
       "      <th>female</th>\n",
       "      <td>0.687500</td>\n",
       "      <td>11</td>\n",
       "    </tr>\n",
       "    <tr>\n",
       "      <th>male</th>\n",
       "      <td>0.280000</td>\n",
       "      <td>7</td>\n",
       "    </tr>\n",
       "    <tr>\n",
       "      <th rowspan=\"6\" valign=\"top\">Q</th>\n",
       "      <th rowspan=\"2\" valign=\"top\">1</th>\n",
       "      <th>female</th>\n",
       "      <td>1.000000</td>\n",
       "      <td>1</td>\n",
       "    </tr>\n",
       "    <tr>\n",
       "      <th>male</th>\n",
       "      <td>0.000000</td>\n",
       "      <td>0</td>\n",
       "    </tr>\n",
       "    <tr>\n",
       "      <th rowspan=\"2\" valign=\"top\">2</th>\n",
       "      <th>female</th>\n",
       "      <td>1.000000</td>\n",
       "      <td>1</td>\n",
       "    </tr>\n",
       "    <tr>\n",
       "      <th>male</th>\n",
       "      <td>0.000000</td>\n",
       "      <td>0</td>\n",
       "    </tr>\n",
       "    <tr>\n",
       "      <th rowspan=\"2\" valign=\"top\">3</th>\n",
       "      <th>female</th>\n",
       "      <td>0.500000</td>\n",
       "      <td>5</td>\n",
       "    </tr>\n",
       "    <tr>\n",
       "      <th>male</th>\n",
       "      <td>0.071429</td>\n",
       "      <td>1</td>\n",
       "    </tr>\n",
       "    <tr>\n",
       "      <th rowspan=\"6\" valign=\"top\">S</th>\n",
       "      <th rowspan=\"2\" valign=\"top\">1</th>\n",
       "      <th>female</th>\n",
       "      <td>0.954545</td>\n",
       "      <td>42</td>\n",
       "    </tr>\n",
       "    <tr>\n",
       "      <th>male</th>\n",
       "      <td>0.375000</td>\n",
       "      <td>24</td>\n",
       "    </tr>\n",
       "    <tr>\n",
       "      <th rowspan=\"2\" valign=\"top\">2</th>\n",
       "      <th>female</th>\n",
       "      <td>0.909091</td>\n",
       "      <td>60</td>\n",
       "    </tr>\n",
       "    <tr>\n",
       "      <th>male</th>\n",
       "      <td>0.155556</td>\n",
       "      <td>14</td>\n",
       "    </tr>\n",
       "    <tr>\n",
       "      <th rowspan=\"2\" valign=\"top\">3</th>\n",
       "      <th>female</th>\n",
       "      <td>0.407895</td>\n",
       "      <td>31</td>\n",
       "    </tr>\n",
       "    <tr>\n",
       "      <th>male</th>\n",
       "      <td>0.140187</td>\n",
       "      <td>30</td>\n",
       "    </tr>\n",
       "  </tbody>\n",
       "</table>\n",
       "</div>"
      ],
      "text/plain": [
       "                            mean      sum\n",
       "                        Survived Survived\n",
       "Embarked Pclass Sex                      \n",
       "C        1      female  0.973684       37\n",
       "                male    0.444444       16\n",
       "         2      female  1.000000        7\n",
       "                male    0.125000        1\n",
       "         3      female  0.687500       11\n",
       "                male    0.280000        7\n",
       "Q        1      female  1.000000        1\n",
       "                male    0.000000        0\n",
       "         2      female  1.000000        1\n",
       "                male    0.000000        0\n",
       "         3      female  0.500000        5\n",
       "                male    0.071429        1\n",
       "S        1      female  0.954545       42\n",
       "                male    0.375000       24\n",
       "         2      female  0.909091       60\n",
       "                male    0.155556       14\n",
       "         3      female  0.407895       31\n",
       "                male    0.140187       30"
      ]
     },
     "execution_count": 29,
     "metadata": {},
     "output_type": "execute_result"
    }
   ],
   "source": [
    "# Survie par lieu d'embarquement, par classe et par genre\n",
    "\n",
    "datanic.pivot_table(index=[\"Embarked\", \"Pclass\", \"Sex\"], values = [\"Survived\"], aggfunc = [np.mean,sum])"
   ]
  },
  {
   "cell_type": "code",
   "execution_count": 30,
   "metadata": {},
   "outputs": [
    {
     "data": {
      "image/png": "[encoded data removed]",
      "text/plain": [
       "<Figure size 640x480 with 1 Axes>"
      ]
     },
     "metadata": {},
     "output_type": "display_data"
    }
   ],
   "source": [
    "sns.barplot(data=datanic_medium, x=\"Embarked\", y=\"Survived\", hue=\"Sex\", palette=\"colorblind\", estimator='mean')\n",
    "plt.show()"
   ]
  },
  {
   "cell_type": "code",
   "execution_count": 31,
   "metadata": {},
   "outputs": [
    {
     "data": {
      "image/png": "[encoded data removed]",
      "text/plain": [
       "<Figure size 640x480 with 1 Axes>"
      ]
     },
     "metadata": {},
     "output_type": "display_data"
    }
   ],
   "source": [
    "sns.barplot(data=datanic_medium, x=\"Embarked\", y=\"Survived\", hue=\"Sex\", palette=\"colorblind\", estimator='sum')\n",
    "plt.show()"
   ]
  },
  {
   "cell_type": "markdown",
   "metadata": {},
   "source": [
    "On retrouve la même constante : les femmes ont davantage survécu que les hommes, qu'importe le lieu d'embarquement.\n",
    "La différence entre les 3 catégories se situe plus dans la répartition des classes :\n",
    "- Il y a plus de personnes en 1ère classe pour Cherbourg\n",
    "- Il y a presque uniquement des personnes en 3ème classe pour Queenstown."
   ]
  },
  {
   "cell_type": "code",
   "execution_count": 32,
   "metadata": {},
   "outputs": [
    {
     "data": {
      "image/png": "[encoded data removed]",
      "text/plain": [
       "<Figure size 640x480 with 1 Axes>"
      ]
     },
     "metadata": {},
     "output_type": "display_data"
    }
   ],
   "source": [
    "sns.barplot(data=datanic_medium, x=\"Embarked\", y=\"Survived\", hue=\"Pclass\", palette=\"colorblind\", estimator=\"mean\")\n",
    "plt.show()"
   ]
  },
  {
   "cell_type": "code",
   "execution_count": 33,
   "metadata": {},
   "outputs": [
    {
     "data": {
      "image/png": "[encoded data removed]",
      "text/plain": [
       "<Figure size 640x480 with 1 Axes>"
      ]
     },
     "metadata": {},
     "output_type": "display_data"
    }
   ],
   "source": [
    "sns.barplot(data=datanic_medium, x=\"Embarked\", y=\"Survived\", hue=\"Pclass\", palette=\"colorblind\", estimator=\"sum\")\n",
    "plt.show()"
   ]
  },
  {
   "cell_type": "code",
   "execution_count": 34,
   "metadata": {},
   "outputs": [
    {
     "data": {
      "image/png": "[encoded data removed]",
      "text/plain": [
       "<Figure size 640x480 with 1 Axes>"
      ]
     },
     "metadata": {},
     "output_type": "display_data"
    }
   ],
   "source": [
    "sns.barplot(data=datanic_medium, x=\"Embarked\", y=\"Survived\", hue=\"Age_label\", palette=\"colorblind\", estimator=\"mean\")\n",
    "plt.show()"
   ]
  },
  {
   "cell_type": "code",
   "execution_count": 35,
   "metadata": {},
   "outputs": [
    {
     "data": {
      "image/png": "[encoded data removed]",
      "text/plain": [
       "<Figure size 640x480 with 1 Axes>"
      ]
     },
     "metadata": {},
     "output_type": "display_data"
    }
   ],
   "source": [
    "sns.barplot(data=datanic_medium, x=\"Embarked\", y=\"Survived\", hue=\"Age_label\", palette=\"colorblind\", estimator=\"sum\")\n",
    "plt.show()"
   ]
  },
  {
   "cell_type": "markdown",
   "metadata": {},
   "source": [
    "Le taux de survie semble donc toujours plus lié à deux critières:\n",
    "- la classe du voyageur\n",
    "- le genre\n",
    "\n",
    "Y a t'il d'autres critères discriminants?"
   ]
  },
  {
   "cell_type": "markdown",
   "metadata": {},
   "source": [
    "### Est-ce que l'âge et la distinction adulte/mineur influencent les chances de survie?"
   ]
  },
  {
   "cell_type": "code",
   "execution_count": 36,
   "metadata": {},
   "outputs": [
    {
     "data": {
      "text/html": [
       "<div>\n",
       "<style scoped>\n",
       "    .dataframe tbody tr th:only-of-type {\n",
       "        vertical-align: middle;\n",
       "    }\n",
       "\n",
       "    .dataframe tbody tr th {\n",
       "        vertical-align: top;\n",
       "    }\n",
       "\n",
       "    .dataframe thead tr th {\n",
       "        text-align: left;\n",
       "    }\n",
       "\n",
       "    .dataframe thead tr:last-of-type th {\n",
       "        text-align: right;\n",
       "    }\n",
       "</style>\n",
       "<table border=\"1\" class=\"dataframe\">\n",
       "  <thead>\n",
       "    <tr>\n",
       "      <th></th>\n",
       "      <th>mean</th>\n",
       "      <th>sum</th>\n",
       "    </tr>\n",
       "    <tr>\n",
       "      <th></th>\n",
       "      <th>Survived</th>\n",
       "      <th>Survived</th>\n",
       "    </tr>\n",
       "    <tr>\n",
       "      <th>Age_label</th>\n",
       "      <th></th>\n",
       "      <th></th>\n",
       "    </tr>\n",
       "  </thead>\n",
       "  <tbody>\n",
       "    <tr>\n",
       "      <th>Adult</th>\n",
       "      <td>0.378965</td>\n",
       "      <td>227</td>\n",
       "    </tr>\n",
       "    <tr>\n",
       "      <th>Minor</th>\n",
       "      <td>0.539823</td>\n",
       "      <td>61</td>\n",
       "    </tr>\n",
       "  </tbody>\n",
       "</table>\n",
       "</div>"
      ],
      "text/plain": [
       "               mean      sum\n",
       "           Survived Survived\n",
       "Age_label                   \n",
       "Adult      0.378965      227\n",
       "Minor      0.539823       61"
      ]
     },
     "execution_count": 36,
     "metadata": {},
     "output_type": "execute_result"
    }
   ],
   "source": [
    "datanic.pivot_table(index=[\"Age_label\"], values = [\"Survived\"], aggfunc = [np.mean,sum])"
   ]
  },
  {
   "cell_type": "code",
   "execution_count": 37,
   "metadata": {},
   "outputs": [
    {
     "data": {
      "text/html": [
       "<div>\n",
       "<style scoped>\n",
       "    .dataframe tbody tr th:only-of-type {\n",
       "        vertical-align: middle;\n",
       "    }\n",
       "\n",
       "    .dataframe tbody tr th {\n",
       "        vertical-align: top;\n",
       "    }\n",
       "\n",
       "    .dataframe thead tr th {\n",
       "        text-align: left;\n",
       "    }\n",
       "\n",
       "    .dataframe thead tr:last-of-type th {\n",
       "        text-align: right;\n",
       "    }\n",
       "</style>\n",
       "<table border=\"1\" class=\"dataframe\">\n",
       "  <thead>\n",
       "    <tr>\n",
       "      <th></th>\n",
       "      <th></th>\n",
       "      <th>mean</th>\n",
       "      <th>sum</th>\n",
       "    </tr>\n",
       "    <tr>\n",
       "      <th></th>\n",
       "      <th></th>\n",
       "      <th>Survived</th>\n",
       "      <th>Survived</th>\n",
       "    </tr>\n",
       "    <tr>\n",
       "      <th>Age_label</th>\n",
       "      <th>Sex</th>\n",
       "      <th></th>\n",
       "      <th></th>\n",
       "    </tr>\n",
       "  </thead>\n",
       "  <tbody>\n",
       "    <tr>\n",
       "      <th rowspan=\"2\" valign=\"top\">Adult</th>\n",
       "      <th>female</th>\n",
       "      <td>0.769608</td>\n",
       "      <td>157</td>\n",
       "    </tr>\n",
       "    <tr>\n",
       "      <th>male</th>\n",
       "      <td>0.177215</td>\n",
       "      <td>70</td>\n",
       "    </tr>\n",
       "    <tr>\n",
       "      <th rowspan=\"2\" valign=\"top\">Minor</th>\n",
       "      <th>female</th>\n",
       "      <td>0.690909</td>\n",
       "      <td>38</td>\n",
       "    </tr>\n",
       "    <tr>\n",
       "      <th>male</th>\n",
       "      <td>0.396552</td>\n",
       "      <td>23</td>\n",
       "    </tr>\n",
       "  </tbody>\n",
       "</table>\n",
       "</div>"
      ],
      "text/plain": [
       "                      mean      sum\n",
       "                  Survived Survived\n",
       "Age_label Sex                      \n",
       "Adult     female  0.769608      157\n",
       "          male    0.177215       70\n",
       "Minor     female  0.690909       38\n",
       "          male    0.396552       23"
      ]
     },
     "execution_count": 37,
     "metadata": {},
     "output_type": "execute_result"
    }
   ],
   "source": [
    "datanic.pivot_table(index=[\"Age_label\", \"Sex\"], values = [\"Survived\"], aggfunc = [np.mean,sum])"
   ]
  },
  {
   "cell_type": "code",
   "execution_count": 38,
   "metadata": {},
   "outputs": [
    {
     "data": {
      "text/html": [
       "<div>\n",
       "<style scoped>\n",
       "    .dataframe tbody tr th:only-of-type {\n",
       "        vertical-align: middle;\n",
       "    }\n",
       "\n",
       "    .dataframe tbody tr th {\n",
       "        vertical-align: top;\n",
       "    }\n",
       "\n",
       "    .dataframe thead tr th {\n",
       "        text-align: left;\n",
       "    }\n",
       "\n",
       "    .dataframe thead tr:last-of-type th {\n",
       "        text-align: right;\n",
       "    }\n",
       "</style>\n",
       "<table border=\"1\" class=\"dataframe\">\n",
       "  <thead>\n",
       "    <tr>\n",
       "      <th></th>\n",
       "      <th></th>\n",
       "      <th></th>\n",
       "      <th>mean</th>\n",
       "      <th>sum</th>\n",
       "    </tr>\n",
       "    <tr>\n",
       "      <th></th>\n",
       "      <th></th>\n",
       "      <th></th>\n",
       "      <th>Survived</th>\n",
       "      <th>Survived</th>\n",
       "    </tr>\n",
       "    <tr>\n",
       "      <th>Age_label</th>\n",
       "      <th>Sex</th>\n",
       "      <th>Pclass</th>\n",
       "      <th></th>\n",
       "      <th></th>\n",
       "    </tr>\n",
       "  </thead>\n",
       "  <tbody>\n",
       "    <tr>\n",
       "      <th rowspan=\"6\" valign=\"top\">Adult</th>\n",
       "      <th rowspan=\"3\" valign=\"top\">female</th>\n",
       "      <th>1</th>\n",
       "      <td>0.973333</td>\n",
       "      <td>73</td>\n",
       "    </tr>\n",
       "    <tr>\n",
       "      <th>2</th>\n",
       "      <td>0.903226</td>\n",
       "      <td>56</td>\n",
       "    </tr>\n",
       "    <tr>\n",
       "      <th>3</th>\n",
       "      <td>0.417910</td>\n",
       "      <td>28</td>\n",
       "    </tr>\n",
       "    <tr>\n",
       "      <th rowspan=\"3\" valign=\"top\">male</th>\n",
       "      <th>1</th>\n",
       "      <td>0.371134</td>\n",
       "      <td>36</td>\n",
       "    </tr>\n",
       "    <tr>\n",
       "      <th>2</th>\n",
       "      <td>0.068182</td>\n",
       "      <td>6</td>\n",
       "    </tr>\n",
       "    <tr>\n",
       "      <th>3</th>\n",
       "      <td>0.133333</td>\n",
       "      <td>28</td>\n",
       "    </tr>\n",
       "    <tr>\n",
       "      <th rowspan=\"6\" valign=\"top\">Minor</th>\n",
       "      <th rowspan=\"3\" valign=\"top\">female</th>\n",
       "      <th>1</th>\n",
       "      <td>0.875000</td>\n",
       "      <td>7</td>\n",
       "    </tr>\n",
       "    <tr>\n",
       "      <th>2</th>\n",
       "      <td>1.000000</td>\n",
       "      <td>12</td>\n",
       "    </tr>\n",
       "    <tr>\n",
       "      <th>3</th>\n",
       "      <td>0.542857</td>\n",
       "      <td>19</td>\n",
       "    </tr>\n",
       "    <tr>\n",
       "      <th rowspan=\"3\" valign=\"top\">male</th>\n",
       "      <th>1</th>\n",
       "      <td>1.000000</td>\n",
       "      <td>4</td>\n",
       "    </tr>\n",
       "    <tr>\n",
       "      <th>2</th>\n",
       "      <td>0.818182</td>\n",
       "      <td>9</td>\n",
       "    </tr>\n",
       "    <tr>\n",
       "      <th>3</th>\n",
       "      <td>0.232558</td>\n",
       "      <td>10</td>\n",
       "    </tr>\n",
       "  </tbody>\n",
       "</table>\n",
       "</div>"
      ],
      "text/plain": [
       "                             mean      sum\n",
       "                         Survived Survived\n",
       "Age_label Sex    Pclass                   \n",
       "Adult     female 1       0.973333       73\n",
       "                 2       0.903226       56\n",
       "                 3       0.417910       28\n",
       "          male   1       0.371134       36\n",
       "                 2       0.068182        6\n",
       "                 3       0.133333       28\n",
       "Minor     female 1       0.875000        7\n",
       "                 2       1.000000       12\n",
       "                 3       0.542857       19\n",
       "          male   1       1.000000        4\n",
       "                 2       0.818182        9\n",
       "                 3       0.232558       10"
      ]
     },
     "execution_count": 38,
     "metadata": {},
     "output_type": "execute_result"
    }
   ],
   "source": [
    "datanic.pivot_table(index=[\"Age_label\", \"Sex\", \"Pclass\"], values = [\"Survived\"], aggfunc = [np.mean,sum])"
   ]
  },
  {
   "cell_type": "code",
   "execution_count": 39,
   "metadata": {},
   "outputs": [
    {
     "data": {
      "image/png": "[encoded data removed]",
      "text/plain": [
       "<Figure size 500x500 with 1 Axes>"
      ]
     },
     "metadata": {},
     "output_type": "display_data"
    }
   ],
   "source": [
    "# Répartition par âge des passagers\n",
    "vis1 = sns.displot(datanic['Age'], bins=16, color=\"forestgreen\")\n"
   ]
  },
  {
   "cell_type": "code",
   "execution_count": 40,
   "metadata": {},
   "outputs": [
    {
     "data": {
      "image/png": "[encoded data removed]",
      "text/plain": [
       "<Figure size 640x480 with 1 Axes>"
      ]
     },
     "metadata": {},
     "output_type": "display_data"
    }
   ],
   "source": [
    "sns.barplot(data=datanic_medium, x=\"Age_label\", y=\"Survived\", hue=\"Sex\", palette=\"colorblind\", estimator=\"mean\",\n",
    "            order = [\"Minor\", \"Adult\"])\n",
    "plt.show()"
   ]
  },
  {
   "cell_type": "code",
   "execution_count": 41,
   "metadata": {},
   "outputs": [
    {
     "data": {
      "image/png": "[encoded data removed]",
      "text/plain": [
       "<Figure size 640x480 with 1 Axes>"
      ]
     },
     "metadata": {},
     "output_type": "display_data"
    }
   ],
   "source": [
    "sns.barplot(data=datanic_medium, x=\"Age_label\", y=\"Survived\", hue=\"Sex\", palette=\"colorblind\", estimator=\"sum\",\n",
    "            order = [\"Minor\", \"Adult\"])\n",
    "plt.show()"
   ]
  },
  {
   "cell_type": "code",
   "execution_count": 42,
   "metadata": {},
   "outputs": [
    {
     "data": {
      "image/png": "[encoded data removed]",
      "text/plain": [
       "<Figure size 640x480 with 1 Axes>"
      ]
     },
     "metadata": {},
     "output_type": "display_data"
    }
   ],
   "source": [
    "sns.barplot(data=datanic_medium, x=\"Age_label\", y=\"Survived\", hue=\"Pclass\", palette=\"colorblind\", estimator=\"mean\",\n",
    "            order = [\"Minor\", \"Adult\"])\n",
    "plt.show()"
   ]
  },
  {
   "cell_type": "code",
   "execution_count": 43,
   "metadata": {},
   "outputs": [
    {
     "data": {
      "image/png": "[encoded data removed]",
      "text/plain": [
       "<Figure size 640x480 with 1 Axes>"
      ]
     },
     "metadata": {},
     "output_type": "display_data"
    }
   ],
   "source": [
    "sns.barplot(data=datanic_medium, x=\"Age_label\", y=\"Survived\", hue=\"Pclass\", palette=\"colorblind\", estimator=\"sum\",\n",
    "            order = [\"Minor\", \"Adult\"])\n",
    "plt.show()"
   ]
  },
  {
   "cell_type": "code",
   "execution_count": 44,
   "metadata": {},
   "outputs": [
    {
     "data": {
      "image/png": "[encoded data removed]",
      "text/plain": [
       "<Figure size 640x480 with 1 Axes>"
      ]
     },
     "metadata": {},
     "output_type": "display_data"
    }
   ],
   "source": [
    "sns.barplot(data=datanic_medium, x=\"Age_Sex\", y=\"Survived\", hue=\"Pclass\", palette=\"colorblind\",\n",
    "            order = [\"Minor male\", \"Minor female\", \"Adult male\", \"Adult female\"])\n",
    "plt.xticks(rotation=70)\n",
    "plt.show()"
   ]
  },
  {
   "cell_type": "code",
   "execution_count": 45,
   "metadata": {},
   "outputs": [
    {
     "data": {
      "image/png": "[encoded data removed]",
      "text/plain": [
       "<Figure size 640x480 with 1 Axes>"
      ]
     },
     "metadata": {},
     "output_type": "display_data"
    }
   ],
   "source": [
    "sns.countplot(data=datanic_small, x=\"Age_Sex\", hue=\"Pclass\", palette=\"colorblind\",\n",
    "              order = [\"Minor male\", \"Minor female\", \"Adult male\", \"Adult female\"])\n",
    "plt.show()"
   ]
  },
  {
   "cell_type": "markdown",
   "metadata": {},
   "source": [
    "Le critère mineur/majeur réduit l'écart dans le taux de survie entre garçons et filles mais le taux de survie est toujours supérieur pour les filles (+/- 70%) que pour les garçons (+/- 39%). Les mineurs ont en tout cas un taux de survie supérieur aux adultes. A noter toutefois que l'échantillon pour les mineurs est moindre que pour les adultes.\n",
    "\n",
    "Ce critère reste donc discriminatoire et peut être ajouté à ceux de classe et de genre pour étudier le taux de survie d'un passager."
   ]
  },
  {
   "cell_type": "markdown",
   "metadata": {},
   "source": [
    "### Est-ce que les chances de survie sont plus élevées quand on a payé son billet plus cher?"
   ]
  },
  {
   "cell_type": "code",
   "execution_count": 46,
   "metadata": {},
   "outputs": [
    {
     "data": {
      "text/html": [
       "<div>\n",
       "<style scoped>\n",
       "    .dataframe tbody tr th:only-of-type {\n",
       "        vertical-align: middle;\n",
       "    }\n",
       "\n",
       "    .dataframe tbody tr th {\n",
       "        vertical-align: top;\n",
       "    }\n",
       "\n",
       "    .dataframe thead tr th {\n",
       "        text-align: left;\n",
       "    }\n",
       "\n",
       "    .dataframe thead tr:last-of-type th {\n",
       "        text-align: right;\n",
       "    }\n",
       "</style>\n",
       "<table border=\"1\" class=\"dataframe\">\n",
       "  <thead>\n",
       "    <tr>\n",
       "      <th></th>\n",
       "      <th colspan=\"2\" halign=\"left\">mean</th>\n",
       "    </tr>\n",
       "    <tr>\n",
       "      <th></th>\n",
       "      <th>Fare</th>\n",
       "      <th>Survived</th>\n",
       "    </tr>\n",
       "    <tr>\n",
       "      <th>Pclass</th>\n",
       "      <th></th>\n",
       "      <th></th>\n",
       "    </tr>\n",
       "  </thead>\n",
       "  <tbody>\n",
       "    <tr>\n",
       "      <th>1</th>\n",
       "      <td>88.048121</td>\n",
       "      <td>0.652174</td>\n",
       "    </tr>\n",
       "    <tr>\n",
       "      <th>2</th>\n",
       "      <td>21.471556</td>\n",
       "      <td>0.479769</td>\n",
       "    </tr>\n",
       "    <tr>\n",
       "      <th>3</th>\n",
       "      <td>13.229435</td>\n",
       "      <td>0.239437</td>\n",
       "    </tr>\n",
       "  </tbody>\n",
       "</table>\n",
       "</div>"
      ],
      "text/plain": [
       "             mean          \n",
       "             Fare  Survived\n",
       "Pclass                     \n",
       "1       88.048121  0.652174\n",
       "2       21.471556  0.479769\n",
       "3       13.229435  0.239437"
      ]
     },
     "execution_count": 46,
     "metadata": {},
     "output_type": "execute_result"
    }
   ],
   "source": [
    "datanic.pivot_table(index=[\"Pclass\"], values = [\"Fare\", \"Survived\"], aggfunc = [np.mean])"
   ]
  },
  {
   "cell_type": "code",
   "execution_count": 47,
   "metadata": {},
   "outputs": [
    {
     "data": {
      "text/html": [
       "<div>\n",
       "<style scoped>\n",
       "    .dataframe tbody tr th:only-of-type {\n",
       "        vertical-align: middle;\n",
       "    }\n",
       "\n",
       "    .dataframe tbody tr th {\n",
       "        vertical-align: top;\n",
       "    }\n",
       "\n",
       "    .dataframe thead tr th {\n",
       "        text-align: left;\n",
       "    }\n",
       "\n",
       "    .dataframe thead tr:last-of-type th {\n",
       "        text-align: right;\n",
       "    }\n",
       "</style>\n",
       "<table border=\"1\" class=\"dataframe\">\n",
       "  <thead>\n",
       "    <tr>\n",
       "      <th></th>\n",
       "      <th></th>\n",
       "      <th colspan=\"2\" halign=\"left\">mean</th>\n",
       "    </tr>\n",
       "    <tr>\n",
       "      <th></th>\n",
       "      <th></th>\n",
       "      <th>Fare</th>\n",
       "      <th>Survived</th>\n",
       "    </tr>\n",
       "    <tr>\n",
       "      <th>Pclass</th>\n",
       "      <th>Sex</th>\n",
       "      <th></th>\n",
       "      <th></th>\n",
       "    </tr>\n",
       "  </thead>\n",
       "  <tbody>\n",
       "    <tr>\n",
       "      <th rowspan=\"2\" valign=\"top\">1</th>\n",
       "      <th>female</th>\n",
       "      <td>108.619680</td>\n",
       "      <td>0.963855</td>\n",
       "    </tr>\n",
       "    <tr>\n",
       "      <th>male</th>\n",
       "      <td>71.142781</td>\n",
       "      <td>0.396040</td>\n",
       "    </tr>\n",
       "    <tr>\n",
       "      <th rowspan=\"2\" valign=\"top\">2</th>\n",
       "      <th>female</th>\n",
       "      <td>21.951070</td>\n",
       "      <td>0.918919</td>\n",
       "    </tr>\n",
       "    <tr>\n",
       "      <th>male</th>\n",
       "      <td>21.113131</td>\n",
       "      <td>0.151515</td>\n",
       "    </tr>\n",
       "    <tr>\n",
       "      <th rowspan=\"2\" valign=\"top\">3</th>\n",
       "      <th>female</th>\n",
       "      <td>15.875369</td>\n",
       "      <td>0.460784</td>\n",
       "    </tr>\n",
       "    <tr>\n",
       "      <th>male</th>\n",
       "      <td>12.162695</td>\n",
       "      <td>0.150198</td>\n",
       "    </tr>\n",
       "  </tbody>\n",
       "</table>\n",
       "</div>"
      ],
      "text/plain": [
       "                     mean          \n",
       "                     Fare  Survived\n",
       "Pclass Sex                         \n",
       "1      female  108.619680  0.963855\n",
       "       male     71.142781  0.396040\n",
       "2      female   21.951070  0.918919\n",
       "       male     21.113131  0.151515\n",
       "3      female   15.875369  0.460784\n",
       "       male     12.162695  0.150198"
      ]
     },
     "execution_count": 47,
     "metadata": {},
     "output_type": "execute_result"
    }
   ],
   "source": [
    "datanic.pivot_table(index=[\"Pclass\", \"Sex\"], values = [\"Fare\", \"Survived\"], aggfunc = [np.mean])"
   ]
  },
  {
   "cell_type": "code",
   "execution_count": 48,
   "metadata": {},
   "outputs": [
    {
     "data": {
      "text/html": [
       "<div>\n",
       "<style scoped>\n",
       "    .dataframe tbody tr th:only-of-type {\n",
       "        vertical-align: middle;\n",
       "    }\n",
       "\n",
       "    .dataframe tbody tr th {\n",
       "        vertical-align: top;\n",
       "    }\n",
       "\n",
       "    .dataframe thead tr th {\n",
       "        text-align: left;\n",
       "    }\n",
       "\n",
       "    .dataframe thead tr:last-of-type th {\n",
       "        text-align: right;\n",
       "    }\n",
       "</style>\n",
       "<table border=\"1\" class=\"dataframe\">\n",
       "  <thead>\n",
       "    <tr>\n",
       "      <th></th>\n",
       "      <th></th>\n",
       "      <th colspan=\"2\" halign=\"left\">mean</th>\n",
       "    </tr>\n",
       "    <tr>\n",
       "      <th></th>\n",
       "      <th></th>\n",
       "      <th>Fare</th>\n",
       "      <th>Survived</th>\n",
       "    </tr>\n",
       "    <tr>\n",
       "      <th>Pclass</th>\n",
       "      <th>Age_Sex</th>\n",
       "      <th></th>\n",
       "      <th></th>\n",
       "    </tr>\n",
       "  </thead>\n",
       "  <tbody>\n",
       "    <tr>\n",
       "      <th rowspan=\"4\" valign=\"top\">1</th>\n",
       "      <th>Adult female</th>\n",
       "      <td>109.103556</td>\n",
       "      <td>0.973333</td>\n",
       "    </tr>\n",
       "    <tr>\n",
       "      <th>Adult male</th>\n",
       "      <td>69.289993</td>\n",
       "      <td>0.371134</td>\n",
       "    </tr>\n",
       "    <tr>\n",
       "      <th>Minor female</th>\n",
       "      <td>104.083337</td>\n",
       "      <td>0.875000</td>\n",
       "    </tr>\n",
       "    <tr>\n",
       "      <th>Minor male</th>\n",
       "      <td>116.072900</td>\n",
       "      <td>1.000000</td>\n",
       "    </tr>\n",
       "    <tr>\n",
       "      <th rowspan=\"4\" valign=\"top\">2</th>\n",
       "      <th>Adult female</th>\n",
       "      <td>21.120632</td>\n",
       "      <td>0.903226</td>\n",
       "    </tr>\n",
       "    <tr>\n",
       "      <th>Adult male</th>\n",
       "      <td>20.544839</td>\n",
       "      <td>0.068182</td>\n",
       "    </tr>\n",
       "    <tr>\n",
       "      <th>Minor female</th>\n",
       "      <td>26.241667</td>\n",
       "      <td>1.000000</td>\n",
       "    </tr>\n",
       "    <tr>\n",
       "      <th>Minor male</th>\n",
       "      <td>25.659473</td>\n",
       "      <td>0.818182</td>\n",
       "    </tr>\n",
       "    <tr>\n",
       "      <th rowspan=\"4\" valign=\"top\">3</th>\n",
       "      <th>Adult female</th>\n",
       "      <td>14.385200</td>\n",
       "      <td>0.417910</td>\n",
       "    </tr>\n",
       "    <tr>\n",
       "      <th>Adult male</th>\n",
       "      <td>9.994302</td>\n",
       "      <td>0.133333</td>\n",
       "    </tr>\n",
       "    <tr>\n",
       "      <th>Minor female</th>\n",
       "      <td>18.727977</td>\n",
       "      <td>0.542857</td>\n",
       "    </tr>\n",
       "    <tr>\n",
       "      <th>Minor male</th>\n",
       "      <td>22.752523</td>\n",
       "      <td>0.232558</td>\n",
       "    </tr>\n",
       "  </tbody>\n",
       "</table>\n",
       "</div>"
      ],
      "text/plain": [
       "                           mean          \n",
       "                           Fare  Survived\n",
       "Pclass Age_Sex                           \n",
       "1      Adult female  109.103556  0.973333\n",
       "       Adult male     69.289993  0.371134\n",
       "       Minor female  104.083337  0.875000\n",
       "       Minor male    116.072900  1.000000\n",
       "2      Adult female   21.120632  0.903226\n",
       "       Adult male     20.544839  0.068182\n",
       "       Minor female   26.241667  1.000000\n",
       "       Minor male     25.659473  0.818182\n",
       "3      Adult female   14.385200  0.417910\n",
       "       Adult male      9.994302  0.133333\n",
       "       Minor female   18.727977  0.542857\n",
       "       Minor male     22.752523  0.232558"
      ]
     },
     "execution_count": 48,
     "metadata": {},
     "output_type": "execute_result"
    }
   ],
   "source": [
    "datanic.pivot_table(index=[\"Pclass\", \"Age_Sex\"], values = [\"Fare\", \"Survived\"], aggfunc = [np.mean])"
   ]
  },
  {
   "cell_type": "code",
   "execution_count": 49,
   "metadata": {},
   "outputs": [
    {
     "data": {
      "image/png": "[encoded data removed]",
      "text/plain": [
       "<Figure size 640x480 with 1 Axes>"
      ]
     },
     "metadata": {},
     "output_type": "display_data"
    }
   ],
   "source": [
    "sns.barplot(data=datanic, x=\"Age_Sex\", y=\"Fare\", hue=\"Pclass\", palette=\"colorblind\",\n",
    "            order = [\"Minor male\", \"Minor female\", \"Adult male\", \"Adult female\"])\n",
    "plt.xticks(rotation=70)\n",
    "plt.show()"
   ]
  },
  {
   "cell_type": "code",
   "execution_count": 50,
   "metadata": {},
   "outputs": [
    {
     "data": {
      "text/plain": [
       "<seaborn.axisgrid.FacetGrid at 0x125925780>"
      ]
     },
     "execution_count": 50,
     "metadata": {},
     "output_type": "execute_result"
    },
    {
     "data": {
      "image/png": "[encoded data removed]",
      "text/plain": [
       "<Figure size 500x500 with 1 Axes>"
      ]
     },
     "metadata": {},
     "output_type": "display_data"
    }
   ],
   "source": [
    "sns.displot(datanic['Fare'], bins=12, color=\"forestgreen\")"
   ]
  },
  {
   "cell_type": "code",
   "execution_count": 51,
   "metadata": {},
   "outputs": [
    {
     "data": {
      "image/png": "[encoded data removed]",
      "text/plain": [
       "<Figure size 640x480 with 1 Axes>"
      ]
     },
     "metadata": {},
     "output_type": "display_data"
    }
   ],
   "source": [
    "sns.scatterplot(data=datanic, x=\"Age_Sex\", y=\"Fare\", hue=\"Survived\", palette=\"colorblind\")\n",
    "plt.xticks(rotation=70)\n",
    "plt.show()"
   ]
  },
  {
   "cell_type": "code",
   "execution_count": 52,
   "metadata": {},
   "outputs": [
    {
     "data": {
      "image/png": "[encoded data removed]",
      "text/plain": [
       "<Figure size 640x480 with 1 Axes>"
      ]
     },
     "metadata": {},
     "output_type": "display_data"
    }
   ],
   "source": [
    "sns.barplot(data=datanic, x=\"Pclass\", y=\"Fare\", hue=\"Survived\", palette=\"colorblind\")\n",
    "plt.show()"
   ]
  },
  {
   "cell_type": "markdown",
   "metadata": {},
   "source": [
    "Un prix du ticket élevé semble augmenter les chances de survie mais il est peut être lié au port de départ ainsi qu'à la classe du voyageur."
   ]
  },
  {
   "cell_type": "markdown",
   "metadata": {},
   "source": [
    "## Algorithme de classification"
   ]
  },
  {
   "cell_type": "markdown",
   "metadata": {},
   "source": [
    "### Imports nécessaires de scikit-learn"
   ]
  },
  {
   "cell_type": "code",
   "execution_count": 53,
   "metadata": {},
   "outputs": [],
   "source": [
    "from sklearn import datasets, svm, metrics, model_selection, preprocessing\n",
    "from sklearn.svm import SVC\n",
    "from sklearn.preprocessing import StandardScaler, MinMaxScaler, LabelBinarizer, OneHotEncoder\n",
    "from sklearn.model_selection import train_test_split, validation_curve, learning_curve\n",
    "from sklearn.metrics import accuracy_score, precision_score, f1_score, recall_score, confusion_matrix, ConfusionMatrixDisplay, classification_report"
   ]
  },
  {
   "cell_type": "markdown",
   "metadata": {},
   "source": [
    "### Préparation de la base de données"
   ]
  },
  {
   "cell_type": "code",
   "execution_count": 177,
   "metadata": {},
   "outputs": [
    {
     "data": {
      "text/html": [
       "<div>\n",
       "<style scoped>\n",
       "    .dataframe tbody tr th:only-of-type {\n",
       "        vertical-align: middle;\n",
       "    }\n",
       "\n",
       "    .dataframe tbody tr th {\n",
       "        vertical-align: top;\n",
       "    }\n",
       "\n",
       "    .dataframe thead th {\n",
       "        text-align: right;\n",
       "    }\n",
       "</style>\n",
       "<table border=\"1\" class=\"dataframe\">\n",
       "  <thead>\n",
       "    <tr style=\"text-align: right;\">\n",
       "      <th></th>\n",
       "      <th>Survived</th>\n",
       "      <th>Pclass</th>\n",
       "      <th>Sex</th>\n",
       "      <th>Age</th>\n",
       "      <th>Fare</th>\n",
       "      <th>Embarked</th>\n",
       "      <th>Age_label</th>\n",
       "    </tr>\n",
       "  </thead>\n",
       "  <tbody>\n",
       "    <tr>\n",
       "      <th>0</th>\n",
       "      <td>0</td>\n",
       "      <td>3</td>\n",
       "      <td>1</td>\n",
       "      <td>22.0</td>\n",
       "      <td>7.2500</td>\n",
       "      <td>0</td>\n",
       "      <td>0</td>\n",
       "    </tr>\n",
       "    <tr>\n",
       "      <th>1</th>\n",
       "      <td>1</td>\n",
       "      <td>1</td>\n",
       "      <td>0</td>\n",
       "      <td>38.0</td>\n",
       "      <td>71.2833</td>\n",
       "      <td>1</td>\n",
       "      <td>0</td>\n",
       "    </tr>\n",
       "    <tr>\n",
       "      <th>2</th>\n",
       "      <td>1</td>\n",
       "      <td>3</td>\n",
       "      <td>0</td>\n",
       "      <td>26.0</td>\n",
       "      <td>7.9250</td>\n",
       "      <td>0</td>\n",
       "      <td>0</td>\n",
       "    </tr>\n",
       "    <tr>\n",
       "      <th>3</th>\n",
       "      <td>1</td>\n",
       "      <td>1</td>\n",
       "      <td>0</td>\n",
       "      <td>35.0</td>\n",
       "      <td>53.1000</td>\n",
       "      <td>0</td>\n",
       "      <td>0</td>\n",
       "    </tr>\n",
       "    <tr>\n",
       "      <th>4</th>\n",
       "      <td>0</td>\n",
       "      <td>3</td>\n",
       "      <td>1</td>\n",
       "      <td>35.0</td>\n",
       "      <td>8.0500</td>\n",
       "      <td>0</td>\n",
       "      <td>0</td>\n",
       "    </tr>\n",
       "    <tr>\n",
       "      <th>6</th>\n",
       "      <td>0</td>\n",
       "      <td>1</td>\n",
       "      <td>1</td>\n",
       "      <td>54.0</td>\n",
       "      <td>51.8625</td>\n",
       "      <td>0</td>\n",
       "      <td>0</td>\n",
       "    </tr>\n",
       "    <tr>\n",
       "      <th>7</th>\n",
       "      <td>0</td>\n",
       "      <td>3</td>\n",
       "      <td>1</td>\n",
       "      <td>2.0</td>\n",
       "      <td>21.0750</td>\n",
       "      <td>0</td>\n",
       "      <td>1</td>\n",
       "    </tr>\n",
       "    <tr>\n",
       "      <th>8</th>\n",
       "      <td>1</td>\n",
       "      <td>3</td>\n",
       "      <td>0</td>\n",
       "      <td>27.0</td>\n",
       "      <td>11.1333</td>\n",
       "      <td>0</td>\n",
       "      <td>0</td>\n",
       "    </tr>\n",
       "    <tr>\n",
       "      <th>9</th>\n",
       "      <td>1</td>\n",
       "      <td>2</td>\n",
       "      <td>0</td>\n",
       "      <td>14.0</td>\n",
       "      <td>30.0708</td>\n",
       "      <td>1</td>\n",
       "      <td>1</td>\n",
       "    </tr>\n",
       "    <tr>\n",
       "      <th>10</th>\n",
       "      <td>1</td>\n",
       "      <td>3</td>\n",
       "      <td>0</td>\n",
       "      <td>4.0</td>\n",
       "      <td>16.7000</td>\n",
       "      <td>0</td>\n",
       "      <td>1</td>\n",
       "    </tr>\n",
       "  </tbody>\n",
       "</table>\n",
       "</div>"
      ],
      "text/plain": [
       "    Survived  Pclass  Sex   Age     Fare  Embarked  Age_label\n",
       "0          0       3    1  22.0   7.2500         0          0\n",
       "1          1       1    0  38.0  71.2833         1          0\n",
       "2          1       3    0  26.0   7.9250         0          0\n",
       "3          1       1    0  35.0  53.1000         0          0\n",
       "4          0       3    1  35.0   8.0500         0          0\n",
       "6          0       1    1  54.0  51.8625         0          0\n",
       "7          0       3    1   2.0  21.0750         0          1\n",
       "8          1       3    0  27.0  11.1333         0          0\n",
       "9          1       2    0  14.0  30.0708         1          1\n",
       "10         1       3    0   4.0  16.7000         0          1"
      ]
     },
     "execution_count": 177,
     "metadata": {},
     "output_type": "execute_result"
    }
   ],
   "source": [
    "datanic_encoded = datanic.copy()\n",
    "datanic_encoded = datanic_encoded.drop(['PassengerId', 'Name', 'Age_Sex', 'SibSp', 'Parch'], axis=1)\n",
    "\n",
    "encoder = LabelBinarizer()\n",
    "datanic_encoded['Sex'] = encoder.fit_transform(datanic_encoded['Sex'])\n",
    "datanic_encoded['Embarked'] = encoder.fit_transform(datanic_encoded['Embarked'])\n",
    "datanic_encoded['Age_label'] = encoder.fit_transform(datanic_encoded['Age_label'])\n",
    "\n",
    "datanic_encoded.head(10)"
   ]
  },
  {
   "cell_type": "code",
   "execution_count": 55,
   "metadata": {},
   "outputs": [
    {
     "data": {
      "image/png": "[encoded data removed]",
      "text/plain": [
       "<Figure size 640x480 with 2 Axes>"
      ]
     },
     "metadata": {},
     "output_type": "display_data"
    }
   ],
   "source": [
    "# Matrice de corrélation entre les variables numériques du dataframe nettoyé avant normalisation et algo\n",
    "# Les valeurs de corrélation sont comprises entre -1 et +1.\n",
    "\n",
    "plt.show(sns.heatmap(datanic_encoded.corr(), vmin = -1, vmax = +1, annot = True, cmap = 'coolwarm'))"
   ]
  },
  {
   "cell_type": "code",
   "execution_count": 56,
   "metadata": {},
   "outputs": [],
   "source": [
    "# On sépare les features du target \n",
    "features, target = datanic_encoded.loc[:, 'Pclass':'Age_label'], datanic_encoded[\"Survived\"]\n",
    "\n",
    "# On split notre dataframe en 2\n",
    "feat_train, feat_test, target_train, target_test = train_test_split(features, target)\n",
    "\n",
    "# On normalise\n",
    "scaler = MinMaxScaler()\n",
    "feat_train = scaler.fit_transform(feat_train)\n",
    "feat_test = scaler.transform(feat_test)"
   ]
  },
  {
   "cell_type": "markdown",
   "metadata": {},
   "source": [
    "### SVC linear"
   ]
  },
  {
   "cell_type": "code",
   "execution_count": 57,
   "metadata": {},
   "outputs": [
    {
     "name": "stdout",
     "output_type": "stream",
     "text": [
      "0.7865168539325843\n",
      "0.7397260273972602\n",
      "0.7397260273972602\n",
      "0.7397260273972603\n",
      "[[86 19]\n",
      " [19 54]]\n"
     ]
    }
   ],
   "source": [
    "# On initalise le modèle \n",
    "svc_classifier_linear = svm.SVC(kernel='linear', C=1.0)\n",
    "\n",
    "# On l'entraîne sur nos données d'entraînement\n",
    "svc_classifier_linear.fit(feat_train, target_train)\n",
    "\n",
    "# On l'utilise pour prédire sur les données de test\n",
    "predict = svc_classifier_linear.predict(feat_test)\n",
    "\n",
    "# Metrics du modèle : accuracy, recall, precision, f1 score\n",
    "print(accuracy_score(target_test, predict))\n",
    "print(recall_score(target_test, predict))\n",
    "print(precision_score(target_test, predict))\n",
    "print(f1_score(target_test, predict))\n",
    "\n",
    "# Matrice de confusion\n",
    "print(confusion_matrix(target_test, predict))"
   ]
  },
  {
   "cell_type": "code",
   "execution_count": 58,
   "metadata": {},
   "outputs": [
    {
     "data": {
      "image/png": "[encoded data removed]",
      "text/plain": [
       "<Figure size 640x480 with 1 Axes>"
      ]
     },
     "metadata": {},
     "output_type": "display_data"
    }
   ],
   "source": [
    "param_range = np.logspace(-6, -1, 5)\n",
    "\n",
    "train_scores, valid_scores = validation_curve(SVC(), feat_train, target_train, param_name=\"gamma\", \n",
    "                                              param_range=param_range)\n",
    "train_scores_mean = np.mean(train_scores, axis=1)\n",
    "train_scores_std = np.std(train_scores, axis=1)\n",
    "valid_scores_mean = np.mean(valid_scores, axis=1)\n",
    "valid_scores_std = np.std(valid_scores, axis=1)\n",
    "\n",
    "plt.title(\"Validation Curve avec SVC\")\n",
    "plt.xlabel(r\"$\\gamma$\")\n",
    "plt.ylabel(\"Score\")\n",
    "plt.ylim(0.0, 1.1)\n",
    "lw = 2\n",
    "plt.semilogx(\n",
    "    param_range, train_scores_mean, label=\"Training score\", color=\"darkorange\", lw=lw\n",
    ")\n",
    "plt.fill_between(\n",
    "    param_range,\n",
    "    train_scores_mean - train_scores_std,\n",
    "    train_scores_mean + train_scores_std,\n",
    "    alpha=0.2,\n",
    "    color=\"darkorange\",\n",
    "    lw=lw,\n",
    ")\n",
    "plt.semilogx(\n",
    "    param_range, valid_scores_mean, label=\"Cross-validation score\", color=\"navy\", lw=lw\n",
    ")\n",
    "plt.fill_between(\n",
    "    param_range,\n",
    "    valid_scores_mean - valid_scores_std,\n",
    "    valid_scores_mean + valid_scores_std,\n",
    "    alpha=0.2,\n",
    "    color=\"navy\",\n",
    "    lw=lw,\n",
    ")\n",
    "plt.legend(loc=\"best\")\n",
    "plt.show()"
   ]
  },
  {
   "cell_type": "markdown",
   "metadata": {},
   "source": [
    "### SVC rbf"
   ]
  },
  {
   "cell_type": "code",
   "execution_count": 59,
   "metadata": {},
   "outputs": [
    {
     "name": "stdout",
     "output_type": "stream",
     "text": [
      "0.848314606741573\n",
      "0.6712328767123288\n",
      "0.9423076923076923\n",
      "0.784\n"
     ]
    },
    {
     "data": {
      "image/png": "[encoded data removed]",
      "text/plain": [
       "<Figure size 640x480 with 2 Axes>"
      ]
     },
     "metadata": {},
     "output_type": "display_data"
    }
   ],
   "source": [
    "# On initalise le modèle \n",
    "svc_classifier_rbf = svm.SVC(kernel='rbf', C=1.0)\n",
    "\n",
    "# On l'entraîne sur nos données d'entraînement\n",
    "svc_classifier_rbf.fit(feat_train, target_train)\n",
    "\n",
    "\n",
    "# On l'utilise pour prédire sur les données de test\n",
    "predict = svc_classifier_rbf.predict(feat_test)\n",
    "\n",
    "# Metrics du modèle : accuracy, recall, precision, f1 score\n",
    "print(accuracy_score(target_test, predict))\n",
    "print(recall_score(target_test, predict))\n",
    "print(precision_score(target_test, predict))\n",
    "print(f1_score(target_test, predict))\n",
    "\n",
    "# Matrice de confusion\n",
    "plt.show(ConfusionMatrixDisplay.from_estimator(svc_classifier_rbf, feat_test, target_test))"
   ]
  },
  {
   "cell_type": "code",
   "execution_count": 60,
   "metadata": {},
   "outputs": [
    {
     "data": {
      "image/png": "[encoded data removed]",
      "text/plain": [
       "<Figure size 640x480 with 1 Axes>"
      ]
     },
     "metadata": {},
     "output_type": "display_data"
    }
   ],
   "source": [
    "param_range = np.logspace(-6, -1, 5)\n",
    "\n",
    "train_scores, valid_scores = validation_curve(svc_classifier_rbf, feat_train, target_train, param_name=\"gamma\", \n",
    "                                              param_range=param_range)\n",
    "train_scores_mean = np.mean(train_scores, axis=1)\n",
    "train_scores_std = np.std(train_scores, axis=1)\n",
    "valid_scores_mean = np.mean(valid_scores, axis=1)\n",
    "valid_scores_std = np.std(valid_scores, axis=1)\n",
    "\n",
    "plt.title(\"Validation Curve avec SVC\")\n",
    "plt.xlabel(r\"$\\gamma$\")\n",
    "plt.ylabel(\"Score\")\n",
    "plt.ylim(0.0, 1.1)\n",
    "lw = 2\n",
    "plt.semilogx(\n",
    "    param_range, train_scores_mean, label=\"Training score\", color=\"darkorange\", lw=lw\n",
    ")\n",
    "plt.fill_between(\n",
    "    param_range,\n",
    "    train_scores_mean - train_scores_std,\n",
    "    train_scores_mean + train_scores_std,\n",
    "    alpha=0.2,\n",
    "    color=\"darkorange\",\n",
    "    lw=lw,\n",
    ")\n",
    "plt.semilogx(\n",
    "    param_range, valid_scores_mean, label=\"Cross-validation score\", color=\"navy\", lw=lw\n",
    ")\n",
    "plt.fill_between(\n",
    "    param_range,\n",
    "    valid_scores_mean - valid_scores_std,\n",
    "    valid_scores_mean + valid_scores_std,\n",
    "    alpha=0.2,\n",
    "    color=\"navy\",\n",
    "    lw=lw,\n",
    ")\n",
    "plt.legend(loc=\"best\")\n",
    "plt.show()"
   ]
  },
  {
   "cell_type": "markdown",
   "metadata": {},
   "source": [
    "### SVC avec GridSearchCV"
   ]
  },
  {
   "cell_type": "code",
   "execution_count": 61,
   "metadata": {},
   "outputs": [
    {
     "name": "stdout",
     "output_type": "stream",
     "text": [
      "Fitting 5 folds for each of 45 candidates, totalling 225 fits\n",
      "Résultats de la validation croisée :\n",
      "\n",
      "accuracy = 0.777 (+/-0.057) for {'C': 0.1, 'gamma': 1, 'kernel': 'linear'}\n",
      "accuracy = 0.779 (+/-0.059) for {'C': 0.1, 'gamma': 1, 'kernel': 'rbf'}\n",
      "accuracy = 0.775 (+/-0.076) for {'C': 0.1, 'gamma': 1, 'kernel': 'poly'}\n",
      "accuracy = 0.777 (+/-0.057) for {'C': 0.1, 'gamma': 0.1, 'kernel': 'linear'}\n",
      "accuracy = 0.777 (+/-0.057) for {'C': 0.1, 'gamma': 0.1, 'kernel': 'rbf'}\n",
      "accuracy = 0.597 (+/-0.003) for {'C': 0.1, 'gamma': 0.1, 'kernel': 'poly'}\n",
      "accuracy = 0.777 (+/-0.057) for {'C': 0.1, 'gamma': 0.01, 'kernel': 'linear'}\n",
      "accuracy = 0.597 (+/-0.003) for {'C': 0.1, 'gamma': 0.01, 'kernel': 'rbf'}\n",
      "accuracy = 0.597 (+/-0.003) for {'C': 0.1, 'gamma': 0.01, 'kernel': 'poly'}\n",
      "accuracy = 0.777 (+/-0.057) for {'C': 0.1, 'gamma': 0.001, 'kernel': 'linear'}\n",
      "accuracy = 0.597 (+/-0.003) for {'C': 0.1, 'gamma': 0.001, 'kernel': 'rbf'}\n",
      "accuracy = 0.597 (+/-0.003) for {'C': 0.1, 'gamma': 0.001, 'kernel': 'poly'}\n",
      "accuracy = 0.777 (+/-0.057) for {'C': 0.1, 'gamma': 0.0001, 'kernel': 'linear'}\n",
      "accuracy = 0.597 (+/-0.003) for {'C': 0.1, 'gamma': 0.0001, 'kernel': 'rbf'}\n",
      "accuracy = 0.597 (+/-0.003) for {'C': 0.1, 'gamma': 0.0001, 'kernel': 'poly'}\n",
      "accuracy = 0.777 (+/-0.057) for {'C': 1, 'gamma': 1, 'kernel': 'linear'}\n",
      "accuracy = 0.771 (+/-0.071) for {'C': 1, 'gamma': 1, 'kernel': 'rbf'}\n",
      "accuracy = 0.783 (+/-0.071) for {'C': 1, 'gamma': 1, 'kernel': 'poly'}\n",
      "accuracy = 0.777 (+/-0.057) for {'C': 1, 'gamma': 0.1, 'kernel': 'linear'}\n",
      "accuracy = 0.777 (+/-0.057) for {'C': 1, 'gamma': 0.1, 'kernel': 'rbf'}\n",
      "accuracy = 0.597 (+/-0.003) for {'C': 1, 'gamma': 0.1, 'kernel': 'poly'}\n",
      "accuracy = 0.777 (+/-0.057) for {'C': 1, 'gamma': 0.01, 'kernel': 'linear'}\n",
      "accuracy = 0.777 (+/-0.057) for {'C': 1, 'gamma': 0.01, 'kernel': 'rbf'}\n",
      "accuracy = 0.597 (+/-0.003) for {'C': 1, 'gamma': 0.01, 'kernel': 'poly'}\n",
      "accuracy = 0.777 (+/-0.057) for {'C': 1, 'gamma': 0.001, 'kernel': 'linear'}\n",
      "accuracy = 0.597 (+/-0.003) for {'C': 1, 'gamma': 0.001, 'kernel': 'rbf'}\n",
      "accuracy = 0.597 (+/-0.003) for {'C': 1, 'gamma': 0.001, 'kernel': 'poly'}\n",
      "accuracy = 0.777 (+/-0.057) for {'C': 1, 'gamma': 0.0001, 'kernel': 'linear'}\n",
      "accuracy = 0.597 (+/-0.003) for {'C': 1, 'gamma': 0.0001, 'kernel': 'rbf'}\n",
      "accuracy = 0.597 (+/-0.003) for {'C': 1, 'gamma': 0.0001, 'kernel': 'poly'}\n",
      "accuracy = 0.777 (+/-0.057) for {'C': 10, 'gamma': 1, 'kernel': 'linear'}\n",
      "accuracy = 0.781 (+/-0.056) for {'C': 10, 'gamma': 1, 'kernel': 'rbf'}\n",
      "accuracy = 0.777 (+/-0.070) for {'C': 10, 'gamma': 1, 'kernel': 'poly'}\n",
      "accuracy = 0.777 (+/-0.057) for {'C': 10, 'gamma': 0.1, 'kernel': 'linear'}\n",
      "accuracy = 0.777 (+/-0.077) for {'C': 10, 'gamma': 0.1, 'kernel': 'rbf'}\n",
      "accuracy = 0.768 (+/-0.076) for {'C': 10, 'gamma': 0.1, 'kernel': 'poly'}\n",
      "accuracy = 0.777 (+/-0.057) for {'C': 10, 'gamma': 0.01, 'kernel': 'linear'}\n",
      "accuracy = 0.777 (+/-0.057) for {'C': 10, 'gamma': 0.01, 'kernel': 'rbf'}\n",
      "accuracy = 0.597 (+/-0.003) for {'C': 10, 'gamma': 0.01, 'kernel': 'poly'}\n",
      "accuracy = 0.777 (+/-0.057) for {'C': 10, 'gamma': 0.001, 'kernel': 'linear'}\n",
      "accuracy = 0.777 (+/-0.057) for {'C': 10, 'gamma': 0.001, 'kernel': 'rbf'}\n",
      "accuracy = 0.597 (+/-0.003) for {'C': 10, 'gamma': 0.001, 'kernel': 'poly'}\n",
      "accuracy = 0.777 (+/-0.057) for {'C': 10, 'gamma': 0.0001, 'kernel': 'linear'}\n",
      "accuracy = 0.597 (+/-0.003) for {'C': 10, 'gamma': 0.0001, 'kernel': 'rbf'}\n",
      "accuracy = 0.597 (+/-0.003) for {'C': 10, 'gamma': 0.0001, 'kernel': 'poly'}\n",
      "\n",
      "               precision    recall  f1-score   support\n",
      "\n",
      "           0       0.80      0.97      0.88       105\n",
      "           1       0.94      0.64      0.76        73\n",
      "\n",
      "    accuracy                           0.84       178\n",
      "   macro avg       0.87      0.81      0.82       178\n",
      "weighted avg       0.86      0.84      0.83       178\n",
      "\n"
     ]
    },
    {
     "data": {
      "image/png": "[encoded data removed]",
      "text/plain": [
       "<Figure size 640x480 with 2 Axes>"
      ]
     },
     "metadata": {},
     "output_type": "display_data"
    }
   ],
   "source": [
    "# On fixe les valeurs des hyperparamètres à tester\n",
    "parameters = {'C':[0.1, 1, 10], 'gamma': [1, 0.1, 0.01, 0.001, 0.0001], 'kernel':('linear', 'rbf', 'poly')}\n",
    "\n",
    "# Choisir un score à optimiser, ici l'accuracy (proportion de prédictions correctes)\n",
    "score = 'accuracy'\n",
    "\n",
    "# Créer un classifieur SVC avec recherche d'hyperparamètre par validation croisée\n",
    "svc = svm.SVC(gamma=\"scale\")\n",
    "svc_classifier = model_selection.GridSearchCV(svc, parameters, verbose = 1)\n",
    "\n",
    "# On l'entraîne sur nos données d'entraînement\n",
    "svc_classifier.fit(feat_train, target_train)\n",
    "\n",
    "# Afficher les performances correspondantes\n",
    "print(\"Résultats de la validation croisée :\\n\")\n",
    "for mean, std, params in zip(svc_classifier.cv_results_['mean_test_score'], svc_classifier.cv_results_['std_test_score'],svc_classifier.cv_results_['params']):\n",
    "    print(\"{} = {:.3f} (+/-{:.03f}) for {}\".format(score,mean,std*2,params))\n",
    "    \n",
    "y_pred = svc_classifier.predict(feat_test)\n",
    "y_true = target_test\n",
    "\n",
    "print('\\n',classification_report(y_true, y_pred))\n",
    "\n",
    "# Matrice de confusion\n",
    "plt.show(ConfusionMatrixDisplay.from_estimator(svc_classifier, feat_test, target_test))"
   ]
  },
  {
   "cell_type": "code",
   "execution_count": 62,
   "metadata": {},
   "outputs": [
    {
     "name": "stdout",
     "output_type": "stream",
     "text": [
      "Best parameters : {'C': 1, 'gamma': 1, 'kernel': 'poly'}\n",
      "\n",
      "Best score : 0.7826485628636923\n",
      "\n",
      "Best estimator : SVC(C=1, gamma=1, kernel='poly')\n"
     ]
    }
   ],
   "source": [
    "print(f\"Best parameters : {svc_classifier.best_params_}\\n\")\n",
    "print(f\"Best score : {svc_classifier.best_score_}\\n\")\n",
    "print(f\"Best estimator : {svc_classifier.best_estimator_}\")"
   ]
  },
  {
   "cell_type": "code",
   "execution_count": 63,
   "metadata": {},
   "outputs": [
    {
     "data": {
      "image/png": "[encoded data removed]",
      "text/plain": [
       "<Figure size 640x480 with 1 Axes>"
      ]
     },
     "metadata": {},
     "output_type": "display_data"
    }
   ],
   "source": [
    "train_sizes, train_scores, valid_scores = learning_curve(svc_classifier.best_estimator_, feat_train, target_train, train_sizes=np.linspace(0.1, 1, 50), cv=5)\n",
    "    \n",
    "plt.plot(train_sizes,np.mean(train_scores,axis=1), label = \"Train\")\n",
    "plt.plot(train_sizes,np.mean(valid_scores,axis=1), label = \"Validation\")\n",
    "plt.title(\"SVC Learning Curve\")\n",
    "plt.legend()\n",
    "plt.show()"
   ]
  },
  {
   "cell_type": "markdown",
   "metadata": {},
   "source": [
    "### Comparaison des résultats avec un algorithme différent : KNN avec GridSearchCV"
   ]
  },
  {
   "cell_type": "code",
   "execution_count": 64,
   "metadata": {},
   "outputs": [],
   "source": [
    "# Imports spécifiques à KNN\n",
    "from sklearn import neighbors, metrics\n",
    "from sklearn.neighbors import KNeighborsClassifier"
   ]
  },
  {
   "cell_type": "code",
   "execution_count": 65,
   "metadata": {},
   "outputs": [
    {
     "name": "stdout",
     "output_type": "stream",
     "text": [
      "Résultats de la validation croisée :\n",
      "\n",
      "accuracy = 0.766 (+/-0.087) for {'n_neighbors': 2}\n",
      "accuracy = 0.762 (+/-0.037) for {'n_neighbors': 3}\n",
      "accuracy = 0.770 (+/-0.062) for {'n_neighbors': 4}\n",
      "accuracy = 0.777 (+/-0.058) for {'n_neighbors': 5}\n",
      "accuracy = 0.773 (+/-0.086) for {'n_neighbors': 6}\n",
      "accuracy = 0.768 (+/-0.084) for {'n_neighbors': 7}\n",
      "accuracy = 0.773 (+/-0.096) for {'n_neighbors': 8}\n",
      "accuracy = 0.766 (+/-0.082) for {'n_neighbors': 9}\n",
      "accuracy = 0.775 (+/-0.063) for {'n_neighbors': 10}\n",
      "accuracy = 0.771 (+/-0.056) for {'n_neighbors': 11}\n",
      "accuracy = 0.777 (+/-0.065) for {'n_neighbors': 12}\n",
      "accuracy = 0.781 (+/-0.065) for {'n_neighbors': 13}\n",
      "accuracy = 0.781 (+/-0.065) for {'n_neighbors': 14}\n",
      "accuracy = 0.771 (+/-0.050) for {'n_neighbors': 15}\n",
      "accuracy = 0.777 (+/-0.064) for {'n_neighbors': 16}\n",
      "accuracy = 0.760 (+/-0.050) for {'n_neighbors': 17}\n",
      "accuracy = 0.766 (+/-0.051) for {'n_neighbors': 18}\n",
      "accuracy = 0.768 (+/-0.055) for {'n_neighbors': 19}\n",
      "accuracy = 0.770 (+/-0.036) for {'n_neighbors': 20}\n",
      "accuracy = 0.764 (+/-0.057) for {'n_neighbors': 21}\n",
      "accuracy = 0.771 (+/-0.057) for {'n_neighbors': 22}\n",
      "accuracy = 0.771 (+/-0.058) for {'n_neighbors': 23}\n",
      "accuracy = 0.768 (+/-0.054) for {'n_neighbors': 24}\n",
      "accuracy = 0.770 (+/-0.047) for {'n_neighbors': 25}\n",
      "accuracy = 0.773 (+/-0.064) for {'n_neighbors': 26}\n",
      "accuracy = 0.766 (+/-0.052) for {'n_neighbors': 27}\n",
      "accuracy = 0.771 (+/-0.055) for {'n_neighbors': 28}\n",
      "accuracy = 0.771 (+/-0.058) for {'n_neighbors': 29}\n",
      "accuracy = 0.783 (+/-0.070) for {'n_neighbors': 30}\n",
      "accuracy = 0.775 (+/-0.061) for {'n_neighbors': 31}\n",
      "accuracy = 0.781 (+/-0.067) for {'n_neighbors': 32}\n",
      "accuracy = 0.768 (+/-0.053) for {'n_neighbors': 33}\n",
      "accuracy = 0.777 (+/-0.064) for {'n_neighbors': 34}\n",
      "accuracy = 0.770 (+/-0.058) for {'n_neighbors': 35}\n",
      "accuracy = 0.779 (+/-0.065) for {'n_neighbors': 36}\n",
      "accuracy = 0.771 (+/-0.062) for {'n_neighbors': 37}\n",
      "accuracy = 0.768 (+/-0.058) for {'n_neighbors': 38}\n",
      "accuracy = 0.764 (+/-0.048) for {'n_neighbors': 39}\n",
      "accuracy = 0.770 (+/-0.051) for {'n_neighbors': 40}\n",
      "accuracy = 0.764 (+/-0.056) for {'n_neighbors': 41}\n",
      "accuracy = 0.764 (+/-0.051) for {'n_neighbors': 42}\n",
      "accuracy = 0.771 (+/-0.047) for {'n_neighbors': 43}\n",
      "accuracy = 0.779 (+/-0.058) for {'n_neighbors': 44}\n",
      "accuracy = 0.775 (+/-0.054) for {'n_neighbors': 45}\n",
      "accuracy = 0.775 (+/-0.060) for {'n_neighbors': 46}\n",
      "accuracy = 0.785 (+/-0.085) for {'n_neighbors': 47}\n",
      "accuracy = 0.786 (+/-0.083) for {'n_neighbors': 48}\n",
      "accuracy = 0.786 (+/-0.084) for {'n_neighbors': 49}\n",
      "accuracy = 0.785 (+/-0.085) for {'n_neighbors': 50}\n"
     ]
    },
    {
     "data": {
      "image/png": "[encoded data removed]",
      "text/plain": [
       "<Figure size 640x480 with 2 Axes>"
      ]
     },
     "metadata": {},
     "output_type": "display_data"
    },
    {
     "name": "stdout",
     "output_type": "stream",
     "text": [
      "\n",
      "               precision    recall  f1-score   support\n",
      "\n",
      "           0       0.76      0.93      0.84       319\n",
      "           1       0.85      0.56      0.68       215\n",
      "\n",
      "    accuracy                           0.78       534\n",
      "   macro avg       0.80      0.75      0.76       534\n",
      "weighted avg       0.79      0.78      0.77       534\n",
      "\n"
     ]
    }
   ],
   "source": [
    "# Fixer les valeurs des hyperparamètres à tester\n",
    "param_grid = {'n_neighbors': range(2,51)}\n",
    "\n",
    "# Choisir un score à optimiser, ici l'accuracy (proportion de prédictions correctes)\n",
    "score = 'accuracy'\n",
    "\n",
    "# Créer un classifieur kNN avec recherche d'hyperparamètre par validation croisée\n",
    "knn_classifier = model_selection.GridSearchCV(neighbors.KNeighborsClassifier(), # un classifieur kNN\n",
    "    param_grid,     # hyperparamètres à tester        \n",
    "    scoring=score)   # score à optimiser\n",
    "\n",
    "knn_classifier.fit(feat_train, target_train)\n",
    "\n",
    "# Afficher les performances correspondantes\n",
    "print(\"Résultats de la validation croisée :\\n\")\n",
    "for mean, std, params in zip(knn_classifier.cv_results_['mean_test_score'], knn_classifier.cv_results_['std_test_score'],knn_classifier.cv_results_['params']):\n",
    "    print(\"{} = {:.3f} (+/-{:.03f}) for {}\".format(score,mean,std*2,params))\n",
    "    \n",
    "y_pred = knn_classifier.predict(feat_train)\n",
    "y_true = target_train\n",
    "\n",
    "plt.show(ConfusionMatrixDisplay.from_estimator(knn_classifier, feat_train, target_train))\n",
    "\n",
    "print('\\n',classification_report(y_true, y_pred))"
   ]
  },
  {
   "cell_type": "code",
   "execution_count": 66,
   "metadata": {},
   "outputs": [
    {
     "name": "stdout",
     "output_type": "stream",
     "text": [
      "Best parameters : {'n_neighbors': 48}\n",
      "\n",
      "Best score : 0.7864221477693529\n",
      "\n",
      "Best estimator : KNeighborsClassifier(n_neighbors=48)\n"
     ]
    }
   ],
   "source": [
    "print(f\"Best parameters : {knn_classifier.best_params_}\\n\")\n",
    "print(f\"Best score : {knn_classifier.best_score_}\\n\")\n",
    "print(f\"Best estimator : {knn_classifier.best_estimator_}\")"
   ]
  },
  {
   "cell_type": "code",
   "execution_count": 67,
   "metadata": {},
   "outputs": [
    {
     "data": {
      "image/png": "[encoded data removed]",
      "text/plain": [
       "<Figure size 640x480 with 1 Axes>"
      ]
     },
     "metadata": {},
     "output_type": "display_data"
    }
   ],
   "source": [
    "train_sizes, train_scores, valid_scores = learning_curve(knn_classifier.best_estimator_, feat_train, target_train, train_sizes=np.linspace(0.1, 1, 50), cv=5)\n",
    "    \n",
    "plt.plot(train_sizes,np.mean(train_scores,axis=1), label = \"Train\")\n",
    "plt.plot(train_sizes,np.mean(valid_scores,axis=1), label = \"Validation\")\n",
    "plt.title(\"KNN Learning Curve\")\n",
    "plt.legend()\n",
    "plt.show()"
   ]
  },
  {
   "cell_type": "markdown",
   "metadata": {},
   "source": [
    "Les résultats sont assez proches entre l'algo KNN en GridSearchCV et SVC en GridSearchCV.\n",
    "\n",
    "Sur un même jeu de de données, SVC obtenait au mieux 80% d'accuracy là où KNN obtenait 79% d'accuracy."
   ]
  },
  {
   "cell_type": "markdown",
   "metadata": {},
   "source": [
    "### Algo avec pipelines"
   ]
  },
  {
   "cell_type": "code",
   "execution_count": 228,
   "metadata": {},
   "outputs": [],
   "source": [
    "# Imports pour la pipeline\n",
    "\n",
    "from sklearn import pipeline\n",
    "from sklearn.pipeline import make_pipeline, make_union\n",
    "from sklearn.compose import make_column_transformer, make_column_selector\n",
    "from sklearn.impute import SimpleImputer\n",
    "from sklearn.preprocessing import OneHotEncoder, LabelBinarizer\n",
    "from sklearn.impute import KNNImputer\n",
    "from sklearn.pipeline import Pipeline\n",
    "\n",
    "from sklearn.pipeline import Pipeline\n",
    "from sklearn.base import BaseEstimator\n",
    "from sklearn.model_selection import GridSearchCV\n",
    "from sklearn.linear_model import LogisticRegression \n",
    "from sklearn.tree import DecisionTreeClassifier\n",
    "from sklearn.impute import KNNImputer\n",
    "from sklearn.neighbors import KNeighborsClassifier"
   ]
  },
  {
   "cell_type": "code",
   "execution_count": 216,
   "metadata": {},
   "outputs": [
    {
     "data": {
      "text/html": [
       "<div>\n",
       "<style scoped>\n",
       "    .dataframe tbody tr th:only-of-type {\n",
       "        vertical-align: middle;\n",
       "    }\n",
       "\n",
       "    .dataframe tbody tr th {\n",
       "        vertical-align: top;\n",
       "    }\n",
       "\n",
       "    .dataframe thead th {\n",
       "        text-align: right;\n",
       "    }\n",
       "</style>\n",
       "<table border=\"1\" class=\"dataframe\">\n",
       "  <thead>\n",
       "    <tr style=\"text-align: right;\">\n",
       "      <th></th>\n",
       "      <th>Survived</th>\n",
       "      <th>Pclass</th>\n",
       "      <th>Sex</th>\n",
       "      <th>Age</th>\n",
       "      <th>Fare</th>\n",
       "      <th>Embarked</th>\n",
       "      <th>Age_label</th>\n",
       "      <th>Age_Sex</th>\n",
       "    </tr>\n",
       "  </thead>\n",
       "  <tbody>\n",
       "    <tr>\n",
       "      <th>0</th>\n",
       "      <td>0</td>\n",
       "      <td>3</td>\n",
       "      <td>male</td>\n",
       "      <td>22.0</td>\n",
       "      <td>7.2500</td>\n",
       "      <td>S</td>\n",
       "      <td>Adult</td>\n",
       "      <td>Adult male</td>\n",
       "    </tr>\n",
       "    <tr>\n",
       "      <th>1</th>\n",
       "      <td>1</td>\n",
       "      <td>1</td>\n",
       "      <td>female</td>\n",
       "      <td>38.0</td>\n",
       "      <td>71.2833</td>\n",
       "      <td>C</td>\n",
       "      <td>Adult</td>\n",
       "      <td>Adult female</td>\n",
       "    </tr>\n",
       "    <tr>\n",
       "      <th>2</th>\n",
       "      <td>1</td>\n",
       "      <td>3</td>\n",
       "      <td>female</td>\n",
       "      <td>26.0</td>\n",
       "      <td>7.9250</td>\n",
       "      <td>S</td>\n",
       "      <td>Adult</td>\n",
       "      <td>Adult female</td>\n",
       "    </tr>\n",
       "    <tr>\n",
       "      <th>3</th>\n",
       "      <td>1</td>\n",
       "      <td>1</td>\n",
       "      <td>female</td>\n",
       "      <td>35.0</td>\n",
       "      <td>53.1000</td>\n",
       "      <td>S</td>\n",
       "      <td>Adult</td>\n",
       "      <td>Adult female</td>\n",
       "    </tr>\n",
       "    <tr>\n",
       "      <th>4</th>\n",
       "      <td>0</td>\n",
       "      <td>3</td>\n",
       "      <td>male</td>\n",
       "      <td>35.0</td>\n",
       "      <td>8.0500</td>\n",
       "      <td>S</td>\n",
       "      <td>Adult</td>\n",
       "      <td>Adult male</td>\n",
       "    </tr>\n",
       "  </tbody>\n",
       "</table>\n",
       "</div>"
      ],
      "text/plain": [
       "   Survived  Pclass     Sex   Age     Fare Embarked Age_label       Age_Sex\n",
       "0         0       3    male  22.0   7.2500        S     Adult    Adult male\n",
       "1         1       1  female  38.0  71.2833        C     Adult  Adult female\n",
       "2         1       3  female  26.0   7.9250        S     Adult  Adult female\n",
       "3         1       1  female  35.0  53.1000        S     Adult  Adult female\n",
       "4         0       3    male  35.0   8.0500        S     Adult    Adult male"
      ]
     },
     "execution_count": 216,
     "metadata": {},
     "output_type": "execute_result"
    }
   ],
   "source": [
    "# On copie le dataframe et on retire les colonnes non discriminantes\n",
    "datanic_for_pipeline = datanic.copy()\n",
    "datanic_for_pipeline.drop(['PassengerId', 'Name', 'SibSp', 'Parch'], axis = 1, inplace=True)\n",
    "datanic_for_pipeline.head()"
   ]
  },
  {
   "cell_type": "code",
   "execution_count": 186,
   "metadata": {},
   "outputs": [
    {
     "data": {
      "text/html": [
       "<div>\n",
       "<style scoped>\n",
       "    .dataframe tbody tr th:only-of-type {\n",
       "        vertical-align: middle;\n",
       "    }\n",
       "\n",
       "    .dataframe tbody tr th {\n",
       "        vertical-align: top;\n",
       "    }\n",
       "\n",
       "    .dataframe thead th {\n",
       "        text-align: right;\n",
       "    }\n",
       "</style>\n",
       "<table border=\"1\" class=\"dataframe\">\n",
       "  <thead>\n",
       "    <tr style=\"text-align: right;\">\n",
       "      <th></th>\n",
       "      <th>Survived</th>\n",
       "      <th>Pclass</th>\n",
       "      <th>Sex</th>\n",
       "      <th>Age</th>\n",
       "      <th>Fare</th>\n",
       "      <th>Embarked</th>\n",
       "      <th>Age_label</th>\n",
       "    </tr>\n",
       "  </thead>\n",
       "  <tbody>\n",
       "    <tr>\n",
       "      <th>0</th>\n",
       "      <td>0</td>\n",
       "      <td>3</td>\n",
       "      <td>1</td>\n",
       "      <td>22.0</td>\n",
       "      <td>7.2500</td>\n",
       "      <td>0</td>\n",
       "      <td>0</td>\n",
       "    </tr>\n",
       "    <tr>\n",
       "      <th>1</th>\n",
       "      <td>1</td>\n",
       "      <td>1</td>\n",
       "      <td>0</td>\n",
       "      <td>38.0</td>\n",
       "      <td>71.2833</td>\n",
       "      <td>1</td>\n",
       "      <td>0</td>\n",
       "    </tr>\n",
       "    <tr>\n",
       "      <th>2</th>\n",
       "      <td>1</td>\n",
       "      <td>3</td>\n",
       "      <td>0</td>\n",
       "      <td>26.0</td>\n",
       "      <td>7.9250</td>\n",
       "      <td>0</td>\n",
       "      <td>0</td>\n",
       "    </tr>\n",
       "    <tr>\n",
       "      <th>3</th>\n",
       "      <td>1</td>\n",
       "      <td>1</td>\n",
       "      <td>0</td>\n",
       "      <td>35.0</td>\n",
       "      <td>53.1000</td>\n",
       "      <td>0</td>\n",
       "      <td>0</td>\n",
       "    </tr>\n",
       "    <tr>\n",
       "      <th>4</th>\n",
       "      <td>0</td>\n",
       "      <td>3</td>\n",
       "      <td>1</td>\n",
       "      <td>35.0</td>\n",
       "      <td>8.0500</td>\n",
       "      <td>0</td>\n",
       "      <td>0</td>\n",
       "    </tr>\n",
       "    <tr>\n",
       "      <th>6</th>\n",
       "      <td>0</td>\n",
       "      <td>1</td>\n",
       "      <td>1</td>\n",
       "      <td>54.0</td>\n",
       "      <td>51.8625</td>\n",
       "      <td>0</td>\n",
       "      <td>0</td>\n",
       "    </tr>\n",
       "    <tr>\n",
       "      <th>7</th>\n",
       "      <td>0</td>\n",
       "      <td>3</td>\n",
       "      <td>1</td>\n",
       "      <td>2.0</td>\n",
       "      <td>21.0750</td>\n",
       "      <td>0</td>\n",
       "      <td>1</td>\n",
       "    </tr>\n",
       "    <tr>\n",
       "      <th>8</th>\n",
       "      <td>1</td>\n",
       "      <td>3</td>\n",
       "      <td>0</td>\n",
       "      <td>27.0</td>\n",
       "      <td>11.1333</td>\n",
       "      <td>0</td>\n",
       "      <td>0</td>\n",
       "    </tr>\n",
       "    <tr>\n",
       "      <th>9</th>\n",
       "      <td>1</td>\n",
       "      <td>2</td>\n",
       "      <td>0</td>\n",
       "      <td>14.0</td>\n",
       "      <td>30.0708</td>\n",
       "      <td>1</td>\n",
       "      <td>1</td>\n",
       "    </tr>\n",
       "    <tr>\n",
       "      <th>10</th>\n",
       "      <td>1</td>\n",
       "      <td>3</td>\n",
       "      <td>0</td>\n",
       "      <td>4.0</td>\n",
       "      <td>16.7000</td>\n",
       "      <td>0</td>\n",
       "      <td>1</td>\n",
       "    </tr>\n",
       "  </tbody>\n",
       "</table>\n",
       "</div>"
      ],
      "text/plain": [
       "    Survived  Pclass  Sex   Age     Fare  Embarked  Age_label\n",
       "0          0       3    1  22.0   7.2500         0          0\n",
       "1          1       1    0  38.0  71.2833         1          0\n",
       "2          1       3    0  26.0   7.9250         0          0\n",
       "3          1       1    0  35.0  53.1000         0          0\n",
       "4          0       3    1  35.0   8.0500         0          0\n",
       "6          0       1    1  54.0  51.8625         0          0\n",
       "7          0       3    1   2.0  21.0750         0          1\n",
       "8          1       3    0  27.0  11.1333         0          0\n",
       "9          1       2    0  14.0  30.0708         1          1\n",
       "10         1       3    0   4.0  16.7000         0          1"
      ]
     },
     "execution_count": 186,
     "metadata": {},
     "output_type": "execute_result"
    }
   ],
   "source": [
    "#datanic_encoded = datanic.copy()\n",
    "#datanic_encoded = datanic_encoded.drop(['PassengerId', 'Name', 'Age_Sex', 'SibSp', 'Parch'], axis=1)\n",
    "\n",
    "#encoder = LabelBinarizer()\n",
    "#datanic_encoded['Sex'] = encoder.fit_transform(datanic_encoded['Sex'])\n",
    "#datanic_encoded['Embarked'] = encoder.fit_transform(datanic_encoded['Embarked'])\n",
    "#datanic_encoded['Age_label'] = encoder.fit_transform(datanic_encoded['Age_label'])\n",
    "\n",
    "#datanic_encoded.head(10)"
   ]
  },
  {
   "cell_type": "code",
   "execution_count": 221,
   "metadata": {},
   "outputs": [],
   "source": [
    "numerical_pipeline = make_pipeline(SimpleImputer(), MinMaxScaler())\n",
    "categorical_pipeline = make_pipeline(SimpleImputer(strategy = 'most_frequent'), OneHotEncoder())\n",
    "\n",
    "numerical_features = make_column_selector(dtype_include=np.number)\n",
    "categorical_features = make_column_selector(dtype_exclude=np.number)"
   ]
  },
  {
   "cell_type": "code",
   "execution_count": 222,
   "metadata": {},
   "outputs": [],
   "source": [
    "preprocessor = make_column_transformer((numerical_pipeline, numerical_features), (categorical_pipeline, categorical_features))"
   ]
  },
  {
   "cell_type": "code",
   "execution_count": 223,
   "metadata": {},
   "outputs": [],
   "source": [
    "# On sépare les features du target \n",
    "features, target = datanic_for_pipeline.loc[:, 'Pclass':'Age_label'], datanic_for_pipeline[\"Survived\"]\n",
    "\n",
    "# On split notre dataframe en 2\n",
    "feat_train, feat_test, target_train, target_test = train_test_split(features, target, test_size = 0.25)"
   ]
  },
  {
   "cell_type": "code",
   "execution_count": 224,
   "metadata": {},
   "outputs": [
    {
     "data": {
      "text/plain": [
       "array([0, 0, 0, 0, 0, 1, 0, 0, 0, 0, 0, 0, 0, 0, 0, 0, 0, 1, 0, 0, 1, 0,\n",
       "       0, 0, 0, 0, 0, 0, 1, 1, 1, 1, 0, 1, 0, 0, 0, 0, 1, 0, 0, 0, 0, 0,\n",
       "       0, 0, 0, 1, 1, 0, 1, 0, 0, 1, 0, 0, 0, 0, 1, 0, 0, 1, 0, 0, 1, 0,\n",
       "       0, 0, 0, 0, 0, 0, 0, 1, 1, 0, 0, 0, 0, 0, 0, 0, 1, 0, 0, 0, 1, 0,\n",
       "       1, 1, 1, 0, 1, 0, 0, 0, 1, 0, 1, 0, 1, 0, 0, 0, 0, 0, 0, 0, 1, 0,\n",
       "       0, 0, 0, 0, 0, 0, 1, 0, 0, 0, 0, 0, 0, 0, 1, 0, 0, 0, 0, 0, 1, 0,\n",
       "       0, 0, 0, 0, 1, 1, 0, 1, 1, 0, 0, 0, 0, 0, 0, 0, 0, 0, 0, 0, 0, 0,\n",
       "       1, 0, 0, 1, 0, 0, 0, 0, 0, 1, 0, 0, 0, 1, 1, 0, 0, 0, 0, 0, 0, 0,\n",
       "       0, 0])"
      ]
     },
     "execution_count": 224,
     "metadata": {},
     "output_type": "execute_result"
    }
   ],
   "source": [
    "model = make_pipeline(preprocessor, SVC())\n",
    "model.fit(feat_train, target_train)\n",
    "model.predict(feat_test)"
   ]
  },
  {
   "cell_type": "code",
   "execution_count": 230,
   "metadata": {},
   "outputs": [],
   "source": [
    "# Estimator pour la pipeline des algos\n",
    "class AlgoEstimator(BaseEstimator):\n",
    "    def fit(self): pass\n",
    "    def score(self): pass"
   ]
  },
  {
   "cell_type": "code",
   "execution_count": 231,
   "metadata": {},
   "outputs": [],
   "source": [
    "# Create a pipeline\n",
    "pipe = Pipeline([('preprocessing', preprocessor), ('classifier', AlgoEstimator())])"
   ]
  },
  {
   "cell_type": "code",
   "execution_count": 233,
   "metadata": {},
   "outputs": [],
   "source": [
    "# Create a pipeline\n",
    "#pipe = Pipeline([('preprocessing', preprocessor), ('classifier', AlgoEstimator())])\n",
    "#pipe = Pipeline([('scale', MinMaxScaler()),('clf', DummyEstimator())])\n",
    " \n",
    "# Candidate learning algorithms and their hyperparameters\n",
    "search_space = [{\"classifier\":[SVC()],\n",
    "                    'classifier__C' : (1.0, 10),\n",
    "                    'classifier__gamma' : (1, 0.1),\n",
    "                    'classifier__kernel' : ('linear', 'rbf', 'poly')}\n",
    "                {\"classifier\":[KNeighborsClassifier()],\n",
    "                    \"classifier__n_neighbors\": list(range(1, 31)),\n",
    "                    'classifier__p': [1, 2],\n",
    "                    'classifier__weights': ['uniform', 'distance'],\n",
    "                    'classifier__algorithm': ['auto']}]\n",
    "    \n",
    "# Create grid search \n",
    "grid_cv = GridSearchCV(estimator=pipe,param_grid=search_space,scoring=\"accuracy\",cv=5)\n",
    "grid_cv.fit(feat_train,target_train)\n",
    "\n",
    "# Tests et prints pour vérifier le meilleur score et meilleurs paramètres\n",
    "print(f\"Best score: {grid_cv.best_score_}\")\n",
    "final_classifier_1 = grid_cv.best_estimator_\n",
    "print(f\"Validation score: {final_classifier_1.score(feat_test,target_test)}\")\n",
    "print(f\"\\n\\nBest classifier: {final_classifier_1}\")\n",
    "print(f\"\\nBest Parameters: {grid_cv.best_params_}\")"
   ]
  },
  {
   "cell_type": "code",
   "execution_count": null,
   "metadata": {},
   "outputs": [],
   "source": [
    "# Estimator pour la pipeline des algos\n",
    "class DummyEstimator(BaseEstimator):\n",
    "    def fit(self): pass\n",
    "    def score(self): pass\n",
    "\n",
    "# Create a pipeline\n",
    "pipe = Pipeline([('preprocessing', preprocessor), ('classifier', DummyEstimator())])\n",
    " \n",
    "# Candidate learning algorithms and their hyperparameters\n",
    "search_space = [{\"classifier\":[SVC()],\n",
    "                    'classifier__C' : (1.0, 10),\n",
    "                    'classifier__gamma' : (1, 0.1),\n",
    "                    'classifier__kernel' : ('linear', 'rbf', 'poly')}\n",
    "                {\"classifier\":[KNeighborsClassifier()],\n",
    "                    \"classifier__n_neighbors\": list(range(1, 31)),\n",
    "                    'classifier__p': [1, 2],\n",
    "                    'classifier__weights': ['uniform', 'distance'],\n",
    "                    'classifier__algorithm': ['auto', 'ball_tree', 'kd_tree', 'brute']}]\n",
    "    \n",
    "# Create grid search \n",
    "grid_cv = GridSearchCV(estimator=pipe,param_grid=search_space,scoring=\"accuracy\",cv=5)\n",
    "grid_cv.fit(feat_train,target_train)\n",
    "\n",
    "# Tests and prints\n",
    "print(f\"Best score: {grid_cv.best_score_}\")\n",
    "final_classifier_1 = grid_cv.best_estimator_\n",
    "print(f\"Validation score: {final_classifier_1.score(feat_test,target_test)}\")\n",
    "print(f\"\\n\\nBest classifier: {final_classifier_1}\")\n",
    "print(f\"\\nBest Parameters: {grid_cv.best_params_}\")"
   ]
  },
  {
   "cell_type": "code",
   "execution_count": null,
   "metadata": {},
   "outputs": [],
   "source": [
    "#from sklearn.svm import LinearSVC\n",
    "#from sklearn.linear_model import SGDClassifier\n",
    "\n",
    "\n",
    "#classifier_pipe = Pipeline([('scale', StandardScaler()),('clf', DummyEstimator())])\n",
    "\n",
    "\n",
    "#classifier_param_grid = [{\n",
    "#                      \"clf\":[RandomForestClassifier()],\n",
    "#                      \"clfn_estimators\": list(range(1, 31)),\n",
    "#                      \"clfmax_depth\" : list(range(1, 16)),\n",
    "#                      \"clfmin_samples_split\" : np.linspace(0.1, 0.5, 10, endpoint=True)\n",
    "#                     },\n",
    "#                     {\n",
    "#                      \"clf\":[KNeighborsClassifier()],\n",
    "#                      \"clfn_neighbors\": list(range(1, 31)), #preprocessing hyperparameter tuning can also be done\n",
    "#                      'clfp': [1, 2],\n",
    "#                      'clfweights': ['uniform', 'distance'],\n",
    "#                      'clfalgorithm': ['auto', 'ball_tree', 'kd_tree', 'brute']\n",
    "#                     },\n",
    "#                     {\n",
    "#                      \"clf\":[LinearSVC()],\n",
    "#                      \"clfpenalty\": [\"l1\", \"l2\"],\n",
    "#                      \"clfC\" : (0.01, 0.5, 1.0),\n",
    "#                    },\n",
    "#                     {\n",
    "#                      'clf': (SGDClassifier(),),\n",
    "#                      'clfalpha': (0.00001, 0.000001),\n",
    "#                      'clf__penalty': ('l2', 'elasticnet')\n",
    "#                      }]\n",
    "\n",
    "\n",
    "#grid_cv = GridSearchCV(estimator=classifier_pipe,param_grid=classifier_param_grid,scoring=\"accuracy\",cv=5)\n",
    "#grid_cv.fit(feat_train,target_train)"
   ]
  }
 ],
 "metadata": {
  "kernelspec": {
   "display_name": "Python 3.10.7 64-bit ('Work')",
   "language": "python",
   "name": "python3"
  },
  "language_info": {
   "codemirror_mode": {
    "name": "ipython",
    "version": 3
   },
   "file_extension": ".py",
   "mimetype": "text/x-python",
   "name": "python",
   "nbconvert_exporter": "python",
   "pygments_lexer": "ipython3",
   "version": "3.10.7"
  },
  "orig_nbformat": 4,
  "vscode": {
   "interpreter": {
    "hash": "543a7c2f1a9271b35301c526e9c8f1af94d34a82f14247b875a545b1355dffdd"
   }
  }
 },
 "nbformat": 4,
 "nbformat_minor": 2
}
